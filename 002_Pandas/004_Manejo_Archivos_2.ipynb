{
 "metadata": {
  "language_info": {
   "codemirror_mode": {
    "name": "ipython",
    "version": 3
   },
   "file_extension": ".py",
   "mimetype": "text/x-python",
   "name": "python",
   "nbconvert_exporter": "python",
   "pygments_lexer": "ipython3",
   "version": "3.8.5"
  },
  "orig_nbformat": 2,
  "kernelspec": {
   "name": "python385jvsc74a57bd0dca0ade3e726a953b501b15e8e990130d2b7799f14cfd9f4271676035ebe5511",
   "display_name": "Python 3.8.5 64-bit ('base': conda)"
  },
  "metadata": {
   "interpreter": {
    "hash": "dca0ade3e726a953b501b15e8e990130d2b7799f14cfd9f4271676035ebe5511"
   }
  }
 },
 "nbformat": 4,
 "nbformat_minor": 2,
 "cells": [
  {
   "cell_type": "code",
   "execution_count": 3,
   "metadata": {},
   "outputs": [],
   "source": [
    "import pandas as pd"
   ]
  },
  {
   "cell_type": "code",
   "execution_count": 12,
   "metadata": {},
   "outputs": [],
   "source": [
    "datos = pd.read_csv('datos.csv', sep = ';')"
   ]
  },
  {
   "cell_type": "code",
   "execution_count": 16,
   "metadata": {},
   "outputs": [
    {
     "output_type": "execute_result",
     "data": {
      "text/plain": [
       "['Nombre', 'Telefono', 'Compañia', 'Ciudad', 'Dirección']"
      ]
     },
     "metadata": {},
     "execution_count": 16
    }
   ],
   "source": [
    "list(datos.columns)"
   ]
  },
  {
   "cell_type": "code",
   "execution_count": 28,
   "metadata": {},
   "outputs": [
    {
     "output_type": "execute_result",
     "data": {
      "text/plain": [
       "                                 Nombre  Telefono  Compañia  Ciudad\n",
       "Dirección                                                          \n",
       "128-4880 Lorem, Rd.                   1         1         1       1\n",
       "1289 Vel St.                          1         1         1       1\n",
       "172-8240 Aenean St.                   1         1         1       1\n",
       "187-8049 Arcu St.                     1         1         1       1\n",
       "193-8923 Litora Road                  1         1         1       1\n",
       "...                                 ...       ...       ...     ...\n",
       "P.O. Box 781, 2966 Inceptos St.       1         1         1       1\n",
       "P.O. Box 818, 9029 Egestas. Ave       1         1         1       1\n",
       "P.O. Box 856, 4247 Placerat Rd.       1         1         1       1\n",
       "P.O. Box 903, 5437 Ut Rd.             1         1         1       1\n",
       "P.O. Box 981, 7634 Nullam Rd.         1         1         1       1\n",
       "\n",
       "[100 rows x 4 columns]"
      ],
      "text/html": "<div>\n<style scoped>\n    .dataframe tbody tr th:only-of-type {\n        vertical-align: middle;\n    }\n\n    .dataframe tbody tr th {\n        vertical-align: top;\n    }\n\n    .dataframe thead th {\n        text-align: right;\n    }\n</style>\n<table border=\"1\" class=\"dataframe\">\n  <thead>\n    <tr style=\"text-align: right;\">\n      <th></th>\n      <th>Nombre</th>\n      <th>Telefono</th>\n      <th>Compañia</th>\n      <th>Ciudad</th>\n    </tr>\n    <tr>\n      <th>Dirección</th>\n      <th></th>\n      <th></th>\n      <th></th>\n      <th></th>\n    </tr>\n  </thead>\n  <tbody>\n    <tr>\n      <th>128-4880 Lorem, Rd.</th>\n      <td>1</td>\n      <td>1</td>\n      <td>1</td>\n      <td>1</td>\n    </tr>\n    <tr>\n      <th>1289 Vel St.</th>\n      <td>1</td>\n      <td>1</td>\n      <td>1</td>\n      <td>1</td>\n    </tr>\n    <tr>\n      <th>172-8240 Aenean St.</th>\n      <td>1</td>\n      <td>1</td>\n      <td>1</td>\n      <td>1</td>\n    </tr>\n    <tr>\n      <th>187-8049 Arcu St.</th>\n      <td>1</td>\n      <td>1</td>\n      <td>1</td>\n      <td>1</td>\n    </tr>\n    <tr>\n      <th>193-8923 Litora Road</th>\n      <td>1</td>\n      <td>1</td>\n      <td>1</td>\n      <td>1</td>\n    </tr>\n    <tr>\n      <th>...</th>\n      <td>...</td>\n      <td>...</td>\n      <td>...</td>\n      <td>...</td>\n    </tr>\n    <tr>\n      <th>P.O. Box 781, 2966 Inceptos St.</th>\n      <td>1</td>\n      <td>1</td>\n      <td>1</td>\n      <td>1</td>\n    </tr>\n    <tr>\n      <th>P.O. Box 818, 9029 Egestas. Ave</th>\n      <td>1</td>\n      <td>1</td>\n      <td>1</td>\n      <td>1</td>\n    </tr>\n    <tr>\n      <th>P.O. Box 856, 4247 Placerat Rd.</th>\n      <td>1</td>\n      <td>1</td>\n      <td>1</td>\n      <td>1</td>\n    </tr>\n    <tr>\n      <th>P.O. Box 903, 5437 Ut Rd.</th>\n      <td>1</td>\n      <td>1</td>\n      <td>1</td>\n      <td>1</td>\n    </tr>\n    <tr>\n      <th>P.O. Box 981, 7634 Nullam Rd.</th>\n      <td>1</td>\n      <td>1</td>\n      <td>1</td>\n      <td>1</td>\n    </tr>\n  </tbody>\n</table>\n<p>100 rows × 4 columns</p>\n</div>"
     },
     "metadata": {},
     "execution_count": 28
    }
   ],
   "source": [
    "datos_grupos = datos.groupby('Dirección').count()\n",
    "datos_grupos"
   ]
  },
  {
   "cell_type": "code",
   "execution_count": 30,
   "metadata": {},
   "outputs": [
    {
     "output_type": "execute_result",
     "data": {
      "text/plain": [
       "                                 Nombre  Compañia  Ciudad\n",
       "Dirección                                                \n",
       "128-4880 Lorem, Rd.                   1         1       1\n",
       "1289 Vel St.                          1         1       1\n",
       "172-8240 Aenean St.                   1         1       1\n",
       "187-8049 Arcu St.                     1         1       1\n",
       "193-8923 Litora Road                  1         1       1\n",
       "...                                 ...       ...     ...\n",
       "P.O. Box 781, 2966 Inceptos St.       1         1       1\n",
       "P.O. Box 818, 9029 Egestas. Ave       1         1       1\n",
       "P.O. Box 856, 4247 Placerat Rd.       1         1       1\n",
       "P.O. Box 903, 5437 Ut Rd.             1         1       1\n",
       "P.O. Box 981, 7634 Nullam Rd.         1         1       1\n",
       "\n",
       "[100 rows x 3 columns]"
      ],
      "text/html": "<div>\n<style scoped>\n    .dataframe tbody tr th:only-of-type {\n        vertical-align: middle;\n    }\n\n    .dataframe tbody tr th {\n        vertical-align: top;\n    }\n\n    .dataframe thead th {\n        text-align: right;\n    }\n</style>\n<table border=\"1\" class=\"dataframe\">\n  <thead>\n    <tr style=\"text-align: right;\">\n      <th></th>\n      <th>Nombre</th>\n      <th>Compañia</th>\n      <th>Ciudad</th>\n    </tr>\n    <tr>\n      <th>Dirección</th>\n      <th></th>\n      <th></th>\n      <th></th>\n    </tr>\n  </thead>\n  <tbody>\n    <tr>\n      <th>128-4880 Lorem, Rd.</th>\n      <td>1</td>\n      <td>1</td>\n      <td>1</td>\n    </tr>\n    <tr>\n      <th>1289 Vel St.</th>\n      <td>1</td>\n      <td>1</td>\n      <td>1</td>\n    </tr>\n    <tr>\n      <th>172-8240 Aenean St.</th>\n      <td>1</td>\n      <td>1</td>\n      <td>1</td>\n    </tr>\n    <tr>\n      <th>187-8049 Arcu St.</th>\n      <td>1</td>\n      <td>1</td>\n      <td>1</td>\n    </tr>\n    <tr>\n      <th>193-8923 Litora Road</th>\n      <td>1</td>\n      <td>1</td>\n      <td>1</td>\n    </tr>\n    <tr>\n      <th>...</th>\n      <td>...</td>\n      <td>...</td>\n      <td>...</td>\n    </tr>\n    <tr>\n      <th>P.O. Box 781, 2966 Inceptos St.</th>\n      <td>1</td>\n      <td>1</td>\n      <td>1</td>\n    </tr>\n    <tr>\n      <th>P.O. Box 818, 9029 Egestas. Ave</th>\n      <td>1</td>\n      <td>1</td>\n      <td>1</td>\n    </tr>\n    <tr>\n      <th>P.O. Box 856, 4247 Placerat Rd.</th>\n      <td>1</td>\n      <td>1</td>\n      <td>1</td>\n    </tr>\n    <tr>\n      <th>P.O. Box 903, 5437 Ut Rd.</th>\n      <td>1</td>\n      <td>1</td>\n      <td>1</td>\n    </tr>\n    <tr>\n      <th>P.O. Box 981, 7634 Nullam Rd.</th>\n      <td>1</td>\n      <td>1</td>\n      <td>1</td>\n    </tr>\n  </tbody>\n</table>\n<p>100 rows × 3 columns</p>\n</div>"
     },
     "metadata": {},
     "execution_count": 30
    }
   ],
   "source": [
    "datos_grupos = datos_grupos.drop('Telefono', 1)\n",
    "datos_grupos"
   ]
  },
  {
   "cell_type": "code",
   "execution_count": 32,
   "metadata": {},
   "outputs": [
    {
     "output_type": "execute_result",
     "data": {
      "text/plain": [
       "                                 Nombre\n",
       "Dirección                              \n",
       "128-4880 Lorem, Rd.                   1\n",
       "1289 Vel St.                          1\n",
       "172-8240 Aenean St.                   1\n",
       "187-8049 Arcu St.                     1\n",
       "193-8923 Litora Road                  1\n",
       "...                                 ...\n",
       "P.O. Box 781, 2966 Inceptos St.       1\n",
       "P.O. Box 818, 9029 Egestas. Ave       1\n",
       "P.O. Box 856, 4247 Placerat Rd.       1\n",
       "P.O. Box 903, 5437 Ut Rd.             1\n",
       "P.O. Box 981, 7634 Nullam Rd.         1\n",
       "\n",
       "[100 rows x 1 columns]"
      ],
      "text/html": "<div>\n<style scoped>\n    .dataframe tbody tr th:only-of-type {\n        vertical-align: middle;\n    }\n\n    .dataframe tbody tr th {\n        vertical-align: top;\n    }\n\n    .dataframe thead th {\n        text-align: right;\n    }\n</style>\n<table border=\"1\" class=\"dataframe\">\n  <thead>\n    <tr style=\"text-align: right;\">\n      <th></th>\n      <th>Nombre</th>\n    </tr>\n    <tr>\n      <th>Dirección</th>\n      <th></th>\n    </tr>\n  </thead>\n  <tbody>\n    <tr>\n      <th>128-4880 Lorem, Rd.</th>\n      <td>1</td>\n    </tr>\n    <tr>\n      <th>1289 Vel St.</th>\n      <td>1</td>\n    </tr>\n    <tr>\n      <th>172-8240 Aenean St.</th>\n      <td>1</td>\n    </tr>\n    <tr>\n      <th>187-8049 Arcu St.</th>\n      <td>1</td>\n    </tr>\n    <tr>\n      <th>193-8923 Litora Road</th>\n      <td>1</td>\n    </tr>\n    <tr>\n      <th>...</th>\n      <td>...</td>\n    </tr>\n    <tr>\n      <th>P.O. Box 781, 2966 Inceptos St.</th>\n      <td>1</td>\n    </tr>\n    <tr>\n      <th>P.O. Box 818, 9029 Egestas. Ave</th>\n      <td>1</td>\n    </tr>\n    <tr>\n      <th>P.O. Box 856, 4247 Placerat Rd.</th>\n      <td>1</td>\n    </tr>\n    <tr>\n      <th>P.O. Box 903, 5437 Ut Rd.</th>\n      <td>1</td>\n    </tr>\n    <tr>\n      <th>P.O. Box 981, 7634 Nullam Rd.</th>\n      <td>1</td>\n    </tr>\n  </tbody>\n</table>\n<p>100 rows × 1 columns</p>\n</div>"
     },
     "metadata": {},
     "execution_count": 32
    }
   ],
   "source": [
    "datos_grupos.drop(datos_grupos.columns[[1, 2]], axis=1, inplace=True)\n",
    "datos_grupos"
   ]
  },
  {
   "cell_type": "code",
   "execution_count": 33,
   "metadata": {},
   "outputs": [
    {
     "output_type": "execute_result",
     "data": {
      "text/plain": [
       "      Nombre        Telefono                    Compañia           Ciudad  \\\n",
       "0    Brendan  1-614-703-0495            Mollis Duis Inc.       Springdale   \n",
       "1    Richard  1-856-940-7998            Arcu Corporation            Boise   \n",
       "2     Edward  1-894-297-9961  Facilisis Non Bibendum Ltd  Selva di Cadore   \n",
       "3     Clarke  1-975-433-5454                        A PC     Westmeerbeek   \n",
       "4      Brent  1-748-535-1049            Enim Corporation           Wardin   \n",
       "..       ...             ...                         ...              ...   \n",
       "95     Ulric  1-124-190-0919           Tortor Industries        Varsenare   \n",
       "96      Hoyt  1-721-837-5328         Venenatis Lacus LLC           Caplan   \n",
       "97    Jasper  1-805-329-8301         Sed Leo Corporation            Leduc   \n",
       "98  Harrison  1-515-622-0857                   Magna Ltd          Machalí   \n",
       "99   Gabriel  1-356-627-4830             Mi Ac Institute          Grafton   \n",
       "\n",
       "                              Dirección  \n",
       "0        P.O. Box 557, 8792 Congue. Rd.  \n",
       "1                         2505 Nunc St.  \n",
       "2             P.O. Box 318, 9313 In St.  \n",
       "3   P.O. Box 657, 9027 Consectetuer Rd.  \n",
       "4                   172-8240 Aenean St.  \n",
       "..                                  ...  \n",
       "95           Ap #276-1879 Tellus Street  \n",
       "96                 Ap #377-7917 Eu, Av.  \n",
       "97                355-3028 Augue Avenue  \n",
       "98              Ap #907-5367 Aenean St.  \n",
       "99     P.O. Box 362, 4441 Facilisis Rd.  \n",
       "\n",
       "[100 rows x 5 columns]"
      ],
      "text/html": "<div>\n<style scoped>\n    .dataframe tbody tr th:only-of-type {\n        vertical-align: middle;\n    }\n\n    .dataframe tbody tr th {\n        vertical-align: top;\n    }\n\n    .dataframe thead th {\n        text-align: right;\n    }\n</style>\n<table border=\"1\" class=\"dataframe\">\n  <thead>\n    <tr style=\"text-align: right;\">\n      <th></th>\n      <th>Nombre</th>\n      <th>Telefono</th>\n      <th>Compañia</th>\n      <th>Ciudad</th>\n      <th>Dirección</th>\n    </tr>\n  </thead>\n  <tbody>\n    <tr>\n      <th>0</th>\n      <td>Brendan</td>\n      <td>1-614-703-0495</td>\n      <td>Mollis Duis Inc.</td>\n      <td>Springdale</td>\n      <td>P.O. Box 557, 8792 Congue. Rd.</td>\n    </tr>\n    <tr>\n      <th>1</th>\n      <td>Richard</td>\n      <td>1-856-940-7998</td>\n      <td>Arcu Corporation</td>\n      <td>Boise</td>\n      <td>2505 Nunc St.</td>\n    </tr>\n    <tr>\n      <th>2</th>\n      <td>Edward</td>\n      <td>1-894-297-9961</td>\n      <td>Facilisis Non Bibendum Ltd</td>\n      <td>Selva di Cadore</td>\n      <td>P.O. Box 318, 9313 In St.</td>\n    </tr>\n    <tr>\n      <th>3</th>\n      <td>Clarke</td>\n      <td>1-975-433-5454</td>\n      <td>A PC</td>\n      <td>Westmeerbeek</td>\n      <td>P.O. Box 657, 9027 Consectetuer Rd.</td>\n    </tr>\n    <tr>\n      <th>4</th>\n      <td>Brent</td>\n      <td>1-748-535-1049</td>\n      <td>Enim Corporation</td>\n      <td>Wardin</td>\n      <td>172-8240 Aenean St.</td>\n    </tr>\n    <tr>\n      <th>...</th>\n      <td>...</td>\n      <td>...</td>\n      <td>...</td>\n      <td>...</td>\n      <td>...</td>\n    </tr>\n    <tr>\n      <th>95</th>\n      <td>Ulric</td>\n      <td>1-124-190-0919</td>\n      <td>Tortor Industries</td>\n      <td>Varsenare</td>\n      <td>Ap #276-1879 Tellus Street</td>\n    </tr>\n    <tr>\n      <th>96</th>\n      <td>Hoyt</td>\n      <td>1-721-837-5328</td>\n      <td>Venenatis Lacus LLC</td>\n      <td>Caplan</td>\n      <td>Ap #377-7917 Eu, Av.</td>\n    </tr>\n    <tr>\n      <th>97</th>\n      <td>Jasper</td>\n      <td>1-805-329-8301</td>\n      <td>Sed Leo Corporation</td>\n      <td>Leduc</td>\n      <td>355-3028 Augue Avenue</td>\n    </tr>\n    <tr>\n      <th>98</th>\n      <td>Harrison</td>\n      <td>1-515-622-0857</td>\n      <td>Magna Ltd</td>\n      <td>Machalí</td>\n      <td>Ap #907-5367 Aenean St.</td>\n    </tr>\n    <tr>\n      <th>99</th>\n      <td>Gabriel</td>\n      <td>1-356-627-4830</td>\n      <td>Mi Ac Institute</td>\n      <td>Grafton</td>\n      <td>P.O. Box 362, 4441 Facilisis Rd.</td>\n    </tr>\n  </tbody>\n</table>\n<p>100 rows × 5 columns</p>\n</div>"
     },
     "metadata": {},
     "execution_count": 33
    }
   ],
   "source": [
    "datos"
   ]
  },
  {
   "cell_type": "code",
   "execution_count": null,
   "metadata": {},
   "outputs": [],
   "source": [
    "df = "
   ]
  }
 ]
}