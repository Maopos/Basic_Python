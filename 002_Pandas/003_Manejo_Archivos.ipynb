{
  "cells": [
    {
      "cell_type": "code",
      "source": [
        "import pandas as pd"
      ],
      "attachments": {},
      "execution_count": 4,
      "outputs": [],
      "metadata": {}
    },
    {
      "cell_type": "code",
      "source": [
        "bank = pd.read_csv('bank-additional-full.csv', sep=';')"
      ],
      "attachments": {},
      "execution_count": 5,
      "outputs": [],
      "metadata": {}
    },
    {
      "cell_type": "code",
      "source": [
        "bank.shape"
      ],
      "attachments": {},
      "execution_count": 6,
      "outputs": [
        {
          "output_type": "execute_result",
          "data": {
            "text/plain": [
              "(41188, 21)"
            ]
          },
          "metadata": {},
          "execution_count": 6
        }
      ],
      "metadata": {}
    },
    {
      "cell_type": "code",
      "source": [
        "bank.head()"
      ],
      "attachments": {},
      "execution_count": 7,
      "outputs": [
        {
          "output_type": "execute_result",
          "data": {
            "text/plain": [
              "   age        job  marital    education  default housing loan    contact  \\\n",
              "0   56  housemaid  married     basic.4y       no      no   no  telephone   \n",
              "1   57   services  married  high.school  unknown      no   no  telephone   \n",
              "2   37   services  married  high.school       no     yes   no  telephone   \n",
              "3   40     admin.  married     basic.6y       no      no   no  telephone   \n",
              "4   56   services  married  high.school       no      no  yes  telephone   \n",
              "\n",
              "  month day_of_week  ...  campaign  pdays  previous     poutcome emp.var.rate  \\\n",
              "0   may         mon  ...         1    999         0  nonexistent          1.1   \n",
              "1   may         mon  ...         1    999         0  nonexistent          1.1   \n",
              "2   may         mon  ...         1    999         0  nonexistent          1.1   \n",
              "3   may         mon  ...         1    999         0  nonexistent          1.1   \n",
              "4   may         mon  ...         1    999         0  nonexistent          1.1   \n",
              "\n",
              "   cons.price.idx  cons.conf.idx  euribor3m  nr.employed   y  \n",
              "0          93.994          -36.4      4.857       5191.0  no  \n",
              "1          93.994          -36.4      4.857       5191.0  no  \n",
              "2          93.994          -36.4      4.857       5191.0  no  \n",
              "3          93.994          -36.4      4.857       5191.0  no  \n",
              "4          93.994          -36.4      4.857       5191.0  no  \n",
              "\n",
              "[5 rows x 21 columns]"
            ],
            "text/html": "<div>\n<style scoped>\n    .dataframe tbody tr th:only-of-type {\n        vertical-align: middle;\n    }\n\n    .dataframe tbody tr th {\n        vertical-align: top;\n    }\n\n    .dataframe thead th {\n        text-align: right;\n    }\n</style>\n<table border=\"1\" class=\"dataframe\">\n  <thead>\n    <tr style=\"text-align: right;\">\n      <th></th>\n      <th>age</th>\n      <th>job</th>\n      <th>marital</th>\n      <th>education</th>\n      <th>default</th>\n      <th>housing</th>\n      <th>loan</th>\n      <th>contact</th>\n      <th>month</th>\n      <th>day_of_week</th>\n      <th>...</th>\n      <th>campaign</th>\n      <th>pdays</th>\n      <th>previous</th>\n      <th>poutcome</th>\n      <th>emp.var.rate</th>\n      <th>cons.price.idx</th>\n      <th>cons.conf.idx</th>\n      <th>euribor3m</th>\n      <th>nr.employed</th>\n      <th>y</th>\n    </tr>\n  </thead>\n  <tbody>\n    <tr>\n      <th>0</th>\n      <td>56</td>\n      <td>housemaid</td>\n      <td>married</td>\n      <td>basic.4y</td>\n      <td>no</td>\n      <td>no</td>\n      <td>no</td>\n      <td>telephone</td>\n      <td>may</td>\n      <td>mon</td>\n      <td>...</td>\n      <td>1</td>\n      <td>999</td>\n      <td>0</td>\n      <td>nonexistent</td>\n      <td>1.1</td>\n      <td>93.994</td>\n      <td>-36.4</td>\n      <td>4.857</td>\n      <td>5191.0</td>\n      <td>no</td>\n    </tr>\n    <tr>\n      <th>1</th>\n      <td>57</td>\n      <td>services</td>\n      <td>married</td>\n      <td>high.school</td>\n      <td>unknown</td>\n      <td>no</td>\n      <td>no</td>\n      <td>telephone</td>\n      <td>may</td>\n      <td>mon</td>\n      <td>...</td>\n      <td>1</td>\n      <td>999</td>\n      <td>0</td>\n      <td>nonexistent</td>\n      <td>1.1</td>\n      <td>93.994</td>\n      <td>-36.4</td>\n      <td>4.857</td>\n      <td>5191.0</td>\n      <td>no</td>\n    </tr>\n    <tr>\n      <th>2</th>\n      <td>37</td>\n      <td>services</td>\n      <td>married</td>\n      <td>high.school</td>\n      <td>no</td>\n      <td>yes</td>\n      <td>no</td>\n      <td>telephone</td>\n      <td>may</td>\n      <td>mon</td>\n      <td>...</td>\n      <td>1</td>\n      <td>999</td>\n      <td>0</td>\n      <td>nonexistent</td>\n      <td>1.1</td>\n      <td>93.994</td>\n      <td>-36.4</td>\n      <td>4.857</td>\n      <td>5191.0</td>\n      <td>no</td>\n    </tr>\n    <tr>\n      <th>3</th>\n      <td>40</td>\n      <td>admin.</td>\n      <td>married</td>\n      <td>basic.6y</td>\n      <td>no</td>\n      <td>no</td>\n      <td>no</td>\n      <td>telephone</td>\n      <td>may</td>\n      <td>mon</td>\n      <td>...</td>\n      <td>1</td>\n      <td>999</td>\n      <td>0</td>\n      <td>nonexistent</td>\n      <td>1.1</td>\n      <td>93.994</td>\n      <td>-36.4</td>\n      <td>4.857</td>\n      <td>5191.0</td>\n      <td>no</td>\n    </tr>\n    <tr>\n      <th>4</th>\n      <td>56</td>\n      <td>services</td>\n      <td>married</td>\n      <td>high.school</td>\n      <td>no</td>\n      <td>no</td>\n      <td>yes</td>\n      <td>telephone</td>\n      <td>may</td>\n      <td>mon</td>\n      <td>...</td>\n      <td>1</td>\n      <td>999</td>\n      <td>0</td>\n      <td>nonexistent</td>\n      <td>1.1</td>\n      <td>93.994</td>\n      <td>-36.4</td>\n      <td>4.857</td>\n      <td>5191.0</td>\n      <td>no</td>\n    </tr>\n  </tbody>\n</table>\n<p>5 rows × 21 columns</p>\n</div>"
          },
          "metadata": {},
          "execution_count": 7
        }
      ],
      "metadata": {}
    },
    {
      "cell_type": "code",
      "source": [
        "bank.tail()"
      ],
      "attachments": {},
      "execution_count": 8,
      "outputs": [
        {
          "output_type": "execute_result",
          "data": {
            "text/plain": [
              "       age          job  marital            education default housing loan  \\\n",
              "41183   73      retired  married  professional.course      no     yes   no   \n",
              "41184   46  blue-collar  married  professional.course      no      no   no   \n",
              "41185   56      retired  married    university.degree      no     yes   no   \n",
              "41186   44   technician  married  professional.course      no      no   no   \n",
              "41187   74      retired  married  professional.course      no     yes   no   \n",
              "\n",
              "        contact month day_of_week  ...  campaign  pdays  previous  \\\n",
              "41183  cellular   nov         fri  ...         1    999         0   \n",
              "41184  cellular   nov         fri  ...         1    999         0   \n",
              "41185  cellular   nov         fri  ...         2    999         0   \n",
              "41186  cellular   nov         fri  ...         1    999         0   \n",
              "41187  cellular   nov         fri  ...         3    999         1   \n",
              "\n",
              "          poutcome emp.var.rate  cons.price.idx  cons.conf.idx  euribor3m  \\\n",
              "41183  nonexistent         -1.1          94.767          -50.8      1.028   \n",
              "41184  nonexistent         -1.1          94.767          -50.8      1.028   \n",
              "41185  nonexistent         -1.1          94.767          -50.8      1.028   \n",
              "41186  nonexistent         -1.1          94.767          -50.8      1.028   \n",
              "41187      failure         -1.1          94.767          -50.8      1.028   \n",
              "\n",
              "       nr.employed    y  \n",
              "41183       4963.6  yes  \n",
              "41184       4963.6   no  \n",
              "41185       4963.6   no  \n",
              "41186       4963.6  yes  \n",
              "41187       4963.6   no  \n",
              "\n",
              "[5 rows x 21 columns]"
            ],
            "text/html": "<div>\n<style scoped>\n    .dataframe tbody tr th:only-of-type {\n        vertical-align: middle;\n    }\n\n    .dataframe tbody tr th {\n        vertical-align: top;\n    }\n\n    .dataframe thead th {\n        text-align: right;\n    }\n</style>\n<table border=\"1\" class=\"dataframe\">\n  <thead>\n    <tr style=\"text-align: right;\">\n      <th></th>\n      <th>age</th>\n      <th>job</th>\n      <th>marital</th>\n      <th>education</th>\n      <th>default</th>\n      <th>housing</th>\n      <th>loan</th>\n      <th>contact</th>\n      <th>month</th>\n      <th>day_of_week</th>\n      <th>...</th>\n      <th>campaign</th>\n      <th>pdays</th>\n      <th>previous</th>\n      <th>poutcome</th>\n      <th>emp.var.rate</th>\n      <th>cons.price.idx</th>\n      <th>cons.conf.idx</th>\n      <th>euribor3m</th>\n      <th>nr.employed</th>\n      <th>y</th>\n    </tr>\n  </thead>\n  <tbody>\n    <tr>\n      <th>41183</th>\n      <td>73</td>\n      <td>retired</td>\n      <td>married</td>\n      <td>professional.course</td>\n      <td>no</td>\n      <td>yes</td>\n      <td>no</td>\n      <td>cellular</td>\n      <td>nov</td>\n      <td>fri</td>\n      <td>...</td>\n      <td>1</td>\n      <td>999</td>\n      <td>0</td>\n      <td>nonexistent</td>\n      <td>-1.1</td>\n      <td>94.767</td>\n      <td>-50.8</td>\n      <td>1.028</td>\n      <td>4963.6</td>\n      <td>yes</td>\n    </tr>\n    <tr>\n      <th>41184</th>\n      <td>46</td>\n      <td>blue-collar</td>\n      <td>married</td>\n      <td>professional.course</td>\n      <td>no</td>\n      <td>no</td>\n      <td>no</td>\n      <td>cellular</td>\n      <td>nov</td>\n      <td>fri</td>\n      <td>...</td>\n      <td>1</td>\n      <td>999</td>\n      <td>0</td>\n      <td>nonexistent</td>\n      <td>-1.1</td>\n      <td>94.767</td>\n      <td>-50.8</td>\n      <td>1.028</td>\n      <td>4963.6</td>\n      <td>no</td>\n    </tr>\n    <tr>\n      <th>41185</th>\n      <td>56</td>\n      <td>retired</td>\n      <td>married</td>\n      <td>university.degree</td>\n      <td>no</td>\n      <td>yes</td>\n      <td>no</td>\n      <td>cellular</td>\n      <td>nov</td>\n      <td>fri</td>\n      <td>...</td>\n      <td>2</td>\n      <td>999</td>\n      <td>0</td>\n      <td>nonexistent</td>\n      <td>-1.1</td>\n      <td>94.767</td>\n      <td>-50.8</td>\n      <td>1.028</td>\n      <td>4963.6</td>\n      <td>no</td>\n    </tr>\n    <tr>\n      <th>41186</th>\n      <td>44</td>\n      <td>technician</td>\n      <td>married</td>\n      <td>professional.course</td>\n      <td>no</td>\n      <td>no</td>\n      <td>no</td>\n      <td>cellular</td>\n      <td>nov</td>\n      <td>fri</td>\n      <td>...</td>\n      <td>1</td>\n      <td>999</td>\n      <td>0</td>\n      <td>nonexistent</td>\n      <td>-1.1</td>\n      <td>94.767</td>\n      <td>-50.8</td>\n      <td>1.028</td>\n      <td>4963.6</td>\n      <td>yes</td>\n    </tr>\n    <tr>\n      <th>41187</th>\n      <td>74</td>\n      <td>retired</td>\n      <td>married</td>\n      <td>professional.course</td>\n      <td>no</td>\n      <td>yes</td>\n      <td>no</td>\n      <td>cellular</td>\n      <td>nov</td>\n      <td>fri</td>\n      <td>...</td>\n      <td>3</td>\n      <td>999</td>\n      <td>1</td>\n      <td>failure</td>\n      <td>-1.1</td>\n      <td>94.767</td>\n      <td>-50.8</td>\n      <td>1.028</td>\n      <td>4963.6</td>\n      <td>no</td>\n    </tr>\n  </tbody>\n</table>\n<p>5 rows × 21 columns</p>\n</div>"
          },
          "metadata": {},
          "execution_count": 8
        }
      ],
      "metadata": {}
    },
    {
      "cell_type": "code",
      "source": [
        "sorted(bank) # Mostrar etiquetas de columnas"
      ],
      "attachments": {},
      "execution_count": 9,
      "outputs": [
        {
          "output_type": "execute_result",
          "data": {
            "text/plain": [
              "['age',\n",
              " 'campaign',\n",
              " 'cons.conf.idx',\n",
              " 'cons.price.idx',\n",
              " 'contact',\n",
              " 'day_of_week',\n",
              " 'default',\n",
              " 'duration',\n",
              " 'education',\n",
              " 'emp.var.rate',\n",
              " 'euribor3m',\n",
              " 'housing',\n",
              " 'job',\n",
              " 'loan',\n",
              " 'marital',\n",
              " 'month',\n",
              " 'nr.employed',\n",
              " 'pdays',\n",
              " 'poutcome',\n",
              " 'previous',\n",
              " 'y']"
            ]
          },
          "metadata": {},
          "execution_count": 9
        }
      ],
      "metadata": {}
    },
    {
      "cell_type": "code",
      "source": [
        "bank = bank.dropna()\n",
        "bank.shape"
      ],
      "attachments": {},
      "execution_count": 10,
      "outputs": [
        {
          "output_type": "execute_result",
          "data": {
            "text/plain": [
              "(41188, 21)"
            ]
          },
          "metadata": {},
          "execution_count": 10
        }
      ],
      "metadata": {}
    },
    {
      "cell_type": "code",
      "source": [
        "marital = bank.groupby('marital').count()\n",
        "marital"
      ],
      "attachments": {},
      "execution_count": 11,
      "outputs": [
        {
          "output_type": "execute_result",
          "data": {
            "text/plain": [
              "            age    job  education  default  housing   loan  contact  month  \\\n",
              "marital                                                                      \n",
              "divorced   4612   4612       4612     4612     4612   4612     4612   4612   \n",
              "married   24928  24928      24928    24928    24928  24928    24928  24928   \n",
              "single    11568  11568      11568    11568    11568  11568    11568  11568   \n",
              "unknown      80     80         80       80       80     80       80     80   \n",
              "\n",
              "          day_of_week  duration  campaign  pdays  previous  poutcome  \\\n",
              "marital                                                                \n",
              "divorced         4612      4612      4612   4612      4612      4612   \n",
              "married         24928     24928     24928  24928     24928     24928   \n",
              "single          11568     11568     11568  11568     11568     11568   \n",
              "unknown            80        80        80     80        80        80   \n",
              "\n",
              "          emp.var.rate  cons.price.idx  cons.conf.idx  euribor3m  nr.employed  \\\n",
              "marital                                                                         \n",
              "divorced          4612            4612           4612       4612         4612   \n",
              "married          24928           24928          24928      24928        24928   \n",
              "single           11568           11568          11568      11568        11568   \n",
              "unknown             80              80             80         80           80   \n",
              "\n",
              "              y  \n",
              "marital          \n",
              "divorced   4612  \n",
              "married   24928  \n",
              "single    11568  \n",
              "unknown      80  "
            ],
            "text/html": "<div>\n<style scoped>\n    .dataframe tbody tr th:only-of-type {\n        vertical-align: middle;\n    }\n\n    .dataframe tbody tr th {\n        vertical-align: top;\n    }\n\n    .dataframe thead th {\n        text-align: right;\n    }\n</style>\n<table border=\"1\" class=\"dataframe\">\n  <thead>\n    <tr style=\"text-align: right;\">\n      <th></th>\n      <th>age</th>\n      <th>job</th>\n      <th>education</th>\n      <th>default</th>\n      <th>housing</th>\n      <th>loan</th>\n      <th>contact</th>\n      <th>month</th>\n      <th>day_of_week</th>\n      <th>duration</th>\n      <th>campaign</th>\n      <th>pdays</th>\n      <th>previous</th>\n      <th>poutcome</th>\n      <th>emp.var.rate</th>\n      <th>cons.price.idx</th>\n      <th>cons.conf.idx</th>\n      <th>euribor3m</th>\n      <th>nr.employed</th>\n      <th>y</th>\n    </tr>\n    <tr>\n      <th>marital</th>\n      <th></th>\n      <th></th>\n      <th></th>\n      <th></th>\n      <th></th>\n      <th></th>\n      <th></th>\n      <th></th>\n      <th></th>\n      <th></th>\n      <th></th>\n      <th></th>\n      <th></th>\n      <th></th>\n      <th></th>\n      <th></th>\n      <th></th>\n      <th></th>\n      <th></th>\n      <th></th>\n    </tr>\n  </thead>\n  <tbody>\n    <tr>\n      <th>divorced</th>\n      <td>4612</td>\n      <td>4612</td>\n      <td>4612</td>\n      <td>4612</td>\n      <td>4612</td>\n      <td>4612</td>\n      <td>4612</td>\n      <td>4612</td>\n      <td>4612</td>\n      <td>4612</td>\n      <td>4612</td>\n      <td>4612</td>\n      <td>4612</td>\n      <td>4612</td>\n      <td>4612</td>\n      <td>4612</td>\n      <td>4612</td>\n      <td>4612</td>\n      <td>4612</td>\n      <td>4612</td>\n    </tr>\n    <tr>\n      <th>married</th>\n      <td>24928</td>\n      <td>24928</td>\n      <td>24928</td>\n      <td>24928</td>\n      <td>24928</td>\n      <td>24928</td>\n      <td>24928</td>\n      <td>24928</td>\n      <td>24928</td>\n      <td>24928</td>\n      <td>24928</td>\n      <td>24928</td>\n      <td>24928</td>\n      <td>24928</td>\n      <td>24928</td>\n      <td>24928</td>\n      <td>24928</td>\n      <td>24928</td>\n      <td>24928</td>\n      <td>24928</td>\n    </tr>\n    <tr>\n      <th>single</th>\n      <td>11568</td>\n      <td>11568</td>\n      <td>11568</td>\n      <td>11568</td>\n      <td>11568</td>\n      <td>11568</td>\n      <td>11568</td>\n      <td>11568</td>\n      <td>11568</td>\n      <td>11568</td>\n      <td>11568</td>\n      <td>11568</td>\n      <td>11568</td>\n      <td>11568</td>\n      <td>11568</td>\n      <td>11568</td>\n      <td>11568</td>\n      <td>11568</td>\n      <td>11568</td>\n      <td>11568</td>\n    </tr>\n    <tr>\n      <th>unknown</th>\n      <td>80</td>\n      <td>80</td>\n      <td>80</td>\n      <td>80</td>\n      <td>80</td>\n      <td>80</td>\n      <td>80</td>\n      <td>80</td>\n      <td>80</td>\n      <td>80</td>\n      <td>80</td>\n      <td>80</td>\n      <td>80</td>\n      <td>80</td>\n      <td>80</td>\n      <td>80</td>\n      <td>80</td>\n      <td>80</td>\n      <td>80</td>\n      <td>80</td>\n    </tr>\n  </tbody>\n</table>\n</div>"
          },
          "metadata": {},
          "execution_count": 11
        }
      ],
      "metadata": {}
    },
    {
      "cell_type": "code",
      "source": [
        "marital['job'].value_counts()"
      ],
      "attachments": {},
      "execution_count": 12,
      "outputs": [
        {
          "output_type": "execute_result",
          "data": {
            "text/plain": [
              "11568    1\n",
              "4612     1\n",
              "80       1\n",
              "24928    1\n",
              "Name: job, dtype: int64"
            ]
          },
          "metadata": {},
          "execution_count": 12
        }
      ],
      "metadata": {}
    },
    {
      "cell_type": "code",
      "source": [
        "bank['marital'].value_counts()"
      ],
      "attachments": {},
      "execution_count": 13,
      "outputs": [
        {
          "output_type": "execute_result",
          "data": {
            "text/plain": [
              "married     24928\n",
              "single      11568\n",
              "divorced     4612\n",
              "unknown        80\n",
              "Name: marital, dtype: int64"
            ]
          },
          "metadata": {},
          "execution_count": 13
        }
      ],
      "metadata": {}
    },
    {
      "cell_type": "code",
      "source": [
        "bank['age'].value_counts()"
      ],
      "attachments": {},
      "execution_count": 14,
      "outputs": [
        {
          "output_type": "execute_result",
          "data": {
            "text/plain": [
              "31    1947\n",
              "32    1846\n",
              "33    1833\n",
              "36    1780\n",
              "35    1759\n",
              "      ... \n",
              "89       2\n",
              "91       2\n",
              "87       1\n",
              "94       1\n",
              "95       1\n",
              "Name: age, Length: 78, dtype: int64"
            ]
          },
          "metadata": {},
          "execution_count": 14
        }
      ],
      "metadata": {}
    },
    {
      "cell_type": "code",
      "source": [
        "bank['job'].value_counts()"
      ],
      "attachments": {},
      "execution_count": 15,
      "outputs": [
        {
          "output_type": "execute_result",
          "data": {
            "text/plain": [
              "admin.           10422\n",
              "blue-collar       9254\n",
              "technician        6743\n",
              "services          3969\n",
              "management        2924\n",
              "retired           1720\n",
              "entrepreneur      1456\n",
              "self-employed     1421\n",
              "housemaid         1060\n",
              "unemployed        1014\n",
              "student            875\n",
              "unknown            330\n",
              "Name: job, dtype: int64"
            ]
          },
          "metadata": {},
          "execution_count": 15
        }
      ],
      "metadata": {}
    },
    {
      "cell_type": "code",
      "source": [
        "bank['education'].value_counts()"
      ],
      "attachments": {},
      "execution_count": 16,
      "outputs": [
        {
          "output_type": "execute_result",
          "data": {
            "text/plain": [
              "university.degree      12168\n",
              "high.school             9515\n",
              "basic.9y                6045\n",
              "professional.course     5243\n",
              "basic.4y                4176\n",
              "basic.6y                2292\n",
              "unknown                 1731\n",
              "illiterate                18\n",
              "Name: education, dtype: int64"
            ]
          },
          "metadata": {},
          "execution_count": 16
        }
      ],
      "metadata": {}
    },
    {
      "cell_type": "code",
      "source": [
        "unknown = bank[bank['job'] == 'unknown'] \n",
        "unknown"
      ],
      "attachments": {},
      "execution_count": 17,
      "outputs": [
        {
          "output_type": "execute_result",
          "data": {
            "text/plain": [
              "       age      job   marital            education  default  housing     loan  \\\n",
              "29      55  unknown   married    university.degree  unknown  unknown  unknown   \n",
              "35      55  unknown   married             basic.4y  unknown      yes       no   \n",
              "73      57  unknown   married              unknown  unknown       no       no   \n",
              "91      57  unknown   married              unknown  unknown      yes       no   \n",
              "144     38  unknown  divorced          high.school  unknown      yes       no   \n",
              "...    ...      ...       ...                  ...      ...      ...      ...   \n",
              "40370   59  unknown   married              unknown       no       no       no   \n",
              "40428   64  unknown   married              unknown       no      yes       no   \n",
              "40656   67  unknown  divorced              unknown  unknown      yes       no   \n",
              "41005   63  unknown   married  professional.course       no       no       no   \n",
              "41108   64  unknown   married              unknown       no       no       no   \n",
              "\n",
              "         contact month day_of_week  ...  campaign  pdays  previous  \\\n",
              "29     telephone   may         mon  ...         1    999         0   \n",
              "35     telephone   may         mon  ...         1    999         0   \n",
              "73     telephone   may         mon  ...         1    999         0   \n",
              "91     telephone   may         mon  ...         1    999         0   \n",
              "144    telephone   may         mon  ...         1    999         0   \n",
              "...          ...   ...         ...  ...       ...    ...       ...   \n",
              "40370   cellular   aug         wed  ...         1      6         1   \n",
              "40428  telephone   aug         fri  ...         4    999         0   \n",
              "40656   cellular   sep         wed  ...         2      6         2   \n",
              "41005   cellular   oct         thu  ...         1      6         1   \n",
              "41108   cellular   nov         mon  ...         1      3         3   \n",
              "\n",
              "          poutcome emp.var.rate  cons.price.idx  cons.conf.idx  euribor3m  \\\n",
              "29     nonexistent          1.1          93.994          -36.4      4.857   \n",
              "35     nonexistent          1.1          93.994          -36.4      4.857   \n",
              "73     nonexistent          1.1          93.994          -36.4      4.857   \n",
              "91     nonexistent          1.1          93.994          -36.4      4.857   \n",
              "144    nonexistent          1.1          93.994          -36.4      4.857   \n",
              "...            ...          ...             ...            ...        ...   \n",
              "40370      success         -1.7          94.027          -38.3      0.900   \n",
              "40428  nonexistent         -1.7          94.027          -38.3      0.905   \n",
              "40656      success         -1.1          94.199          -37.5      0.880   \n",
              "41005      success         -1.1          94.601          -49.5      1.025   \n",
              "41108      success         -1.1          94.767          -50.8      1.048   \n",
              "\n",
              "       nr.employed    y  \n",
              "29          5191.0   no  \n",
              "35          5191.0   no  \n",
              "73          5191.0   no  \n",
              "91          5191.0   no  \n",
              "144         5191.0   no  \n",
              "...            ...  ...  \n",
              "40370       4991.6  yes  \n",
              "40428       4991.6  yes  \n",
              "40656       4963.6  yes  \n",
              "41005       4963.6   no  \n",
              "41108       4963.6   no  \n",
              "\n",
              "[330 rows x 21 columns]"
            ],
            "text/html": "<div>\n<style scoped>\n    .dataframe tbody tr th:only-of-type {\n        vertical-align: middle;\n    }\n\n    .dataframe tbody tr th {\n        vertical-align: top;\n    }\n\n    .dataframe thead th {\n        text-align: right;\n    }\n</style>\n<table border=\"1\" class=\"dataframe\">\n  <thead>\n    <tr style=\"text-align: right;\">\n      <th></th>\n      <th>age</th>\n      <th>job</th>\n      <th>marital</th>\n      <th>education</th>\n      <th>default</th>\n      <th>housing</th>\n      <th>loan</th>\n      <th>contact</th>\n      <th>month</th>\n      <th>day_of_week</th>\n      <th>...</th>\n      <th>campaign</th>\n      <th>pdays</th>\n      <th>previous</th>\n      <th>poutcome</th>\n      <th>emp.var.rate</th>\n      <th>cons.price.idx</th>\n      <th>cons.conf.idx</th>\n      <th>euribor3m</th>\n      <th>nr.employed</th>\n      <th>y</th>\n    </tr>\n  </thead>\n  <tbody>\n    <tr>\n      <th>29</th>\n      <td>55</td>\n      <td>unknown</td>\n      <td>married</td>\n      <td>university.degree</td>\n      <td>unknown</td>\n      <td>unknown</td>\n      <td>unknown</td>\n      <td>telephone</td>\n      <td>may</td>\n      <td>mon</td>\n      <td>...</td>\n      <td>1</td>\n      <td>999</td>\n      <td>0</td>\n      <td>nonexistent</td>\n      <td>1.1</td>\n      <td>93.994</td>\n      <td>-36.4</td>\n      <td>4.857</td>\n      <td>5191.0</td>\n      <td>no</td>\n    </tr>\n    <tr>\n      <th>35</th>\n      <td>55</td>\n      <td>unknown</td>\n      <td>married</td>\n      <td>basic.4y</td>\n      <td>unknown</td>\n      <td>yes</td>\n      <td>no</td>\n      <td>telephone</td>\n      <td>may</td>\n      <td>mon</td>\n      <td>...</td>\n      <td>1</td>\n      <td>999</td>\n      <td>0</td>\n      <td>nonexistent</td>\n      <td>1.1</td>\n      <td>93.994</td>\n      <td>-36.4</td>\n      <td>4.857</td>\n      <td>5191.0</td>\n      <td>no</td>\n    </tr>\n    <tr>\n      <th>73</th>\n      <td>57</td>\n      <td>unknown</td>\n      <td>married</td>\n      <td>unknown</td>\n      <td>unknown</td>\n      <td>no</td>\n      <td>no</td>\n      <td>telephone</td>\n      <td>may</td>\n      <td>mon</td>\n      <td>...</td>\n      <td>1</td>\n      <td>999</td>\n      <td>0</td>\n      <td>nonexistent</td>\n      <td>1.1</td>\n      <td>93.994</td>\n      <td>-36.4</td>\n      <td>4.857</td>\n      <td>5191.0</td>\n      <td>no</td>\n    </tr>\n    <tr>\n      <th>91</th>\n      <td>57</td>\n      <td>unknown</td>\n      <td>married</td>\n      <td>unknown</td>\n      <td>unknown</td>\n      <td>yes</td>\n      <td>no</td>\n      <td>telephone</td>\n      <td>may</td>\n      <td>mon</td>\n      <td>...</td>\n      <td>1</td>\n      <td>999</td>\n      <td>0</td>\n      <td>nonexistent</td>\n      <td>1.1</td>\n      <td>93.994</td>\n      <td>-36.4</td>\n      <td>4.857</td>\n      <td>5191.0</td>\n      <td>no</td>\n    </tr>\n    <tr>\n      <th>144</th>\n      <td>38</td>\n      <td>unknown</td>\n      <td>divorced</td>\n      <td>high.school</td>\n      <td>unknown</td>\n      <td>yes</td>\n      <td>no</td>\n      <td>telephone</td>\n      <td>may</td>\n      <td>mon</td>\n      <td>...</td>\n      <td>1</td>\n      <td>999</td>\n      <td>0</td>\n      <td>nonexistent</td>\n      <td>1.1</td>\n      <td>93.994</td>\n      <td>-36.4</td>\n      <td>4.857</td>\n      <td>5191.0</td>\n      <td>no</td>\n    </tr>\n    <tr>\n      <th>...</th>\n      <td>...</td>\n      <td>...</td>\n      <td>...</td>\n      <td>...</td>\n      <td>...</td>\n      <td>...</td>\n      <td>...</td>\n      <td>...</td>\n      <td>...</td>\n      <td>...</td>\n      <td>...</td>\n      <td>...</td>\n      <td>...</td>\n      <td>...</td>\n      <td>...</td>\n      <td>...</td>\n      <td>...</td>\n      <td>...</td>\n      <td>...</td>\n      <td>...</td>\n      <td>...</td>\n    </tr>\n    <tr>\n      <th>40370</th>\n      <td>59</td>\n      <td>unknown</td>\n      <td>married</td>\n      <td>unknown</td>\n      <td>no</td>\n      <td>no</td>\n      <td>no</td>\n      <td>cellular</td>\n      <td>aug</td>\n      <td>wed</td>\n      <td>...</td>\n      <td>1</td>\n      <td>6</td>\n      <td>1</td>\n      <td>success</td>\n      <td>-1.7</td>\n      <td>94.027</td>\n      <td>-38.3</td>\n      <td>0.900</td>\n      <td>4991.6</td>\n      <td>yes</td>\n    </tr>\n    <tr>\n      <th>40428</th>\n      <td>64</td>\n      <td>unknown</td>\n      <td>married</td>\n      <td>unknown</td>\n      <td>no</td>\n      <td>yes</td>\n      <td>no</td>\n      <td>telephone</td>\n      <td>aug</td>\n      <td>fri</td>\n      <td>...</td>\n      <td>4</td>\n      <td>999</td>\n      <td>0</td>\n      <td>nonexistent</td>\n      <td>-1.7</td>\n      <td>94.027</td>\n      <td>-38.3</td>\n      <td>0.905</td>\n      <td>4991.6</td>\n      <td>yes</td>\n    </tr>\n    <tr>\n      <th>40656</th>\n      <td>67</td>\n      <td>unknown</td>\n      <td>divorced</td>\n      <td>unknown</td>\n      <td>unknown</td>\n      <td>yes</td>\n      <td>no</td>\n      <td>cellular</td>\n      <td>sep</td>\n      <td>wed</td>\n      <td>...</td>\n      <td>2</td>\n      <td>6</td>\n      <td>2</td>\n      <td>success</td>\n      <td>-1.1</td>\n      <td>94.199</td>\n      <td>-37.5</td>\n      <td>0.880</td>\n      <td>4963.6</td>\n      <td>yes</td>\n    </tr>\n    <tr>\n      <th>41005</th>\n      <td>63</td>\n      <td>unknown</td>\n      <td>married</td>\n      <td>professional.course</td>\n      <td>no</td>\n      <td>no</td>\n      <td>no</td>\n      <td>cellular</td>\n      <td>oct</td>\n      <td>thu</td>\n      <td>...</td>\n      <td>1</td>\n      <td>6</td>\n      <td>1</td>\n      <td>success</td>\n      <td>-1.1</td>\n      <td>94.601</td>\n      <td>-49.5</td>\n      <td>1.025</td>\n      <td>4963.6</td>\n      <td>no</td>\n    </tr>\n    <tr>\n      <th>41108</th>\n      <td>64</td>\n      <td>unknown</td>\n      <td>married</td>\n      <td>unknown</td>\n      <td>no</td>\n      <td>no</td>\n      <td>no</td>\n      <td>cellular</td>\n      <td>nov</td>\n      <td>mon</td>\n      <td>...</td>\n      <td>1</td>\n      <td>3</td>\n      <td>3</td>\n      <td>success</td>\n      <td>-1.1</td>\n      <td>94.767</td>\n      <td>-50.8</td>\n      <td>1.048</td>\n      <td>4963.6</td>\n      <td>no</td>\n    </tr>\n  </tbody>\n</table>\n<p>330 rows × 21 columns</p>\n</div>"
          },
          "metadata": {},
          "execution_count": 17
        }
      ],
      "metadata": {}
    },
    {
      "cell_type": "code",
      "source": [
        "len(unknown)"
      ],
      "attachments": {},
      "execution_count": 18,
      "outputs": [
        {
          "output_type": "execute_result",
          "data": {
            "text/plain": [
              "330"
            ]
          },
          "metadata": {},
          "execution_count": 18
        }
      ],
      "metadata": {}
    },
    {
      "cell_type": "code",
      "source": [
        "month = bank['month']\n",
        "type(month)"
      ],
      "attachments": {},
      "execution_count": 19,
      "outputs": [
        {
          "output_type": "execute_result",
          "data": {
            "text/plain": [
              "pandas.core.series.Series"
            ]
          },
          "metadata": {},
          "execution_count": 19
        }
      ],
      "metadata": {}
    },
    {
      "cell_type": "code",
      "source": [
        "month_count = bank['month'].value_counts()\n",
        "month_count"
      ],
      "attachments": {},
      "execution_count": 28,
      "outputs": [
        {
          "output_type": "execute_result",
          "data": {
            "text/plain": [
              "may    13769\n",
              "jul     7174\n",
              "aug     6178\n",
              "jun     5318\n",
              "nov     4101\n",
              "apr     2632\n",
              "oct      718\n",
              "sep      570\n",
              "mar      546\n",
              "dec      182\n",
              "Name: month, dtype: int64"
            ]
          },
          "metadata": {},
          "execution_count": 28
        }
      ],
      "metadata": {}
    },
    {
      "cell_type": "code",
      "source": [
        "len(month_count)"
      ],
      "attachments": {},
      "execution_count": 21,
      "outputs": [
        {
          "output_type": "execute_result",
          "data": {
            "text/plain": [
              "164751"
            ]
          },
          "metadata": {},
          "execution_count": 21
        }
      ],
      "metadata": {}
    },
    {
      "cell_type": "code",
      "source": [
        "month_list = month_count.split()\n",
        "len(month_list)"
      ],
      "attachments": {},
      "execution_count": 22,
      "outputs": [
        {
          "output_type": "execute_result",
          "data": {
            "text/plain": [
              "41188"
            ]
          },
          "metadata": {},
          "execution_count": 22
        }
      ],
      "metadata": {}
    },
    {
      "cell_type": "code",
      "source": [
        "data_month = pd.DataFrame(month_list)\n",
        "frecuent_month = data_month[0].value_counts().to_frame()\n",
        "frecuent_month"
      ],
      "attachments": {},
      "execution_count": 23,
      "outputs": [
        {
          "output_type": "execute_result",
          "data": {
            "text/plain": [
              "         0\n",
              "may  13769\n",
              "jul   7174\n",
              "aug   6178\n",
              "jun   5318\n",
              "nov   4101\n",
              "apr   2632\n",
              "oct    718\n",
              "sep    570\n",
              "mar    546\n",
              "dec    182"
            ],
            "text/html": "<div>\n<style scoped>\n    .dataframe tbody tr th:only-of-type {\n        vertical-align: middle;\n    }\n\n    .dataframe tbody tr th {\n        vertical-align: top;\n    }\n\n    .dataframe thead th {\n        text-align: right;\n    }\n</style>\n<table border=\"1\" class=\"dataframe\">\n  <thead>\n    <tr style=\"text-align: right;\">\n      <th></th>\n      <th>0</th>\n    </tr>\n  </thead>\n  <tbody>\n    <tr>\n      <th>may</th>\n      <td>13769</td>\n    </tr>\n    <tr>\n      <th>jul</th>\n      <td>7174</td>\n    </tr>\n    <tr>\n      <th>aug</th>\n      <td>6178</td>\n    </tr>\n    <tr>\n      <th>jun</th>\n      <td>5318</td>\n    </tr>\n    <tr>\n      <th>nov</th>\n      <td>4101</td>\n    </tr>\n    <tr>\n      <th>apr</th>\n      <td>2632</td>\n    </tr>\n    <tr>\n      <th>oct</th>\n      <td>718</td>\n    </tr>\n    <tr>\n      <th>sep</th>\n      <td>570</td>\n    </tr>\n    <tr>\n      <th>mar</th>\n      <td>546</td>\n    </tr>\n    <tr>\n      <th>dec</th>\n      <td>182</td>\n    </tr>\n  </tbody>\n</table>\n</div>"
          },
          "metadata": {},
          "execution_count": 23
        }
      ],
      "metadata": {}
    },
    {
      "cell_type": "code",
      "source": [
        "month_bank = bank['month'].value_counts()\n",
        "month_bank"
      ],
      "attachments": {},
      "execution_count": 24,
      "outputs": [
        {
          "output_type": "execute_result",
          "data": {
            "text/plain": [
              "may    13769\n",
              "jul     7174\n",
              "aug     6178\n",
              "jun     5318\n",
              "nov     4101\n",
              "apr     2632\n",
              "oct      718\n",
              "sep      570\n",
              "mar      546\n",
              "dec      182\n",
              "Name: month, dtype: int64"
            ]
          },
          "metadata": {},
          "execution_count": 24
        }
      ],
      "metadata": {}
    }
  ],
  "metadata": {
    "kernelspec": {
      "name": "python385jvsc74a57bd0dca0ade3e726a953b501b15e8e990130d2b7799f14cfd9f4271676035ebe5511",
      "display_name": "Python 3.8.5 64-bit ('base': conda)"
    },
    "metadata": {
      "interpreter": {
        "hash": "dca0ade3e726a953b501b15e8e990130d2b7799f14cfd9f4271676035ebe5511"
      }
    }
  },
  "nbformat": 4,
  "nbformat_minor": 0
}