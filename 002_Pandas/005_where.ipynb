{
 "metadata": {
  "language_info": {
   "codemirror_mode": {
    "name": "ipython",
    "version": 3
   },
   "file_extension": ".py",
   "mimetype": "text/x-python",
   "name": "python",
   "nbconvert_exporter": "python",
   "pygments_lexer": "ipython3",
   "version": "3.8.5"
  },
  "orig_nbformat": 2,
  "kernelspec": {
   "name": "python385jvsc74a57bd0dca0ade3e726a953b501b15e8e990130d2b7799f14cfd9f4271676035ebe5511",
   "display_name": "Python 3.8.5 64-bit ('base': conda)"
  },
  "metadata": {
   "interpreter": {
    "hash": "dca0ade3e726a953b501b15e8e990130d2b7799f14cfd9f4271676035ebe5511"
   }
  }
 },
 "nbformat": 4,
 "nbformat_minor": 2,
 "cells": [
  {
   "cell_type": "code",
   "execution_count": 10,
   "metadata": {},
   "outputs": [],
   "source": [
    "import pandas as pd\n",
    "import numpy as np"
   ]
  },
  {
   "cell_type": "code",
   "execution_count": 12,
   "metadata": {},
   "outputs": [
    {
     "output_type": "execute_result",
     "data": {
      "text/plain": [
       "             Arboleda  Unicentro  Bolivar  Total\n",
       "Adidas             21          8       23     52\n",
       "Arcterix            6         20       13     39\n",
       "Fila                4         17        9     30\n",
       "Nike                7         12       10     29\n",
       "Puma               34         15       24     73\n",
       "Rebook              2         10        4     16\n",
       "Salomon            12         12        8     32\n",
       "UnderArmour         3          5        6     14"
      ],
      "text/html": "<div>\n<style scoped>\n    .dataframe tbody tr th:only-of-type {\n        vertical-align: middle;\n    }\n\n    .dataframe tbody tr th {\n        vertical-align: top;\n    }\n\n    .dataframe thead th {\n        text-align: right;\n    }\n</style>\n<table border=\"1\" class=\"dataframe\">\n  <thead>\n    <tr style=\"text-align: right;\">\n      <th></th>\n      <th>Arboleda</th>\n      <th>Unicentro</th>\n      <th>Bolivar</th>\n      <th>Total</th>\n    </tr>\n  </thead>\n  <tbody>\n    <tr>\n      <th>Adidas</th>\n      <td>21</td>\n      <td>8</td>\n      <td>23</td>\n      <td>52</td>\n    </tr>\n    <tr>\n      <th>Arcterix</th>\n      <td>6</td>\n      <td>20</td>\n      <td>13</td>\n      <td>39</td>\n    </tr>\n    <tr>\n      <th>Fila</th>\n      <td>4</td>\n      <td>17</td>\n      <td>9</td>\n      <td>30</td>\n    </tr>\n    <tr>\n      <th>Nike</th>\n      <td>7</td>\n      <td>12</td>\n      <td>10</td>\n      <td>29</td>\n    </tr>\n    <tr>\n      <th>Puma</th>\n      <td>34</td>\n      <td>15</td>\n      <td>24</td>\n      <td>73</td>\n    </tr>\n    <tr>\n      <th>Rebook</th>\n      <td>2</td>\n      <td>10</td>\n      <td>4</td>\n      <td>16</td>\n    </tr>\n    <tr>\n      <th>Salomon</th>\n      <td>12</td>\n      <td>12</td>\n      <td>8</td>\n      <td>32</td>\n    </tr>\n    <tr>\n      <th>UnderArmour</th>\n      <td>3</td>\n      <td>5</td>\n      <td>6</td>\n      <td>14</td>\n    </tr>\n  </tbody>\n</table>\n</div>"
     },
     "metadata": {},
     "execution_count": 12
    }
   ],
   "source": [
    "unicentro = pd.Series([12, 8, 10, 15, 5, 12, 17, 20], index = ['Nike', 'Adidas', 'Rebook', 'Puma', 'UnderArmour', 'Salomon', 'Fila', 'Arcterix'])\n",
    "\n",
    "arboleda = pd.Series([34, 21, 7, 2, 3, 12, 4, 6], index = ['Puma', 'Adidas', 'Nike', 'Rebook', 'UnderArmour', 'Salomon', 'Fila', 'Arcterix'])\n",
    "\n",
    "bolivar = pd.Series([10, 23, 13, 24, 9, 4, 8, 6], index = ['Nike', 'Adidas', 'Arcterix', 'Puma', 'Fila', 'Rebook', 'Salomon', 'UnderArmour'])\n",
    "\n",
    "ventas = pd.DataFrame({'Arboleda': arboleda, 'Unicentro': unicentro, 'Bolivar': bolivar})\n",
    "\n",
    "ventas['Total'] = arboleda + unicentro + bolivar\n",
    "\n",
    "ventas"
   ]
  },
  {
   "cell_type": "code",
   "execution_count": null,
   "metadata": {},
   "outputs": [],
   "source": []
  }
 ]
}