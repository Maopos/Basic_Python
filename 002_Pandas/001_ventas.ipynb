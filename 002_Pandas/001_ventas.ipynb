{
  "cells": [
    {
      "cell_type": "code",
      "source": [
        "import pandas as pd"
      ],
      "attachments": {},
      "execution_count": 2,
      "outputs": [],
      "metadata": {}
    },
    {
      "cell_type": "code",
      "source": [
        "ventas = pd.Series([15,12,21], index = [\"Ene\", \"Feb\", \"Mar\"])\n"
      ],
      "attachments": {},
      "execution_count": 3,
      "outputs": [],
      "metadata": {}
    },
    {
      "cell_type": "code",
      "source": [
        "ventas[1]"
      ],
      "attachments": {},
      "execution_count": 4,
      "outputs": [
        {
          "output_type": "execute_result",
          "data": {
            "text/plain": [
              "12"
            ]
          },
          "metadata": {},
          "execution_count": 4
        }
      ],
      "metadata": {}
    },
    {
      "cell_type": "code",
      "source": [
        "ventas['Ene']"
      ],
      "attachments": {},
      "execution_count": 5,
      "outputs": [
        {
          "output_type": "execute_result",
          "data": {
            "text/plain": [
              "15"
            ]
          },
          "metadata": {},
          "execution_count": 5
        }
      ],
      "metadata": {}
    },
    {
      "cell_type": "code",
      "source": [
        "ventas.dtype"
      ],
      "attachments": {},
      "execution_count": 6,
      "outputs": [
        {
          "output_type": "execute_result",
          "data": {
            "text/plain": [
              "dtype('int64')"
            ]
          },
          "metadata": {},
          "execution_count": 6
        }
      ],
      "metadata": {}
    },
    {
      "cell_type": "code",
      "source": [
        "ventas.values"
      ],
      "attachments": {},
      "execution_count": 7,
      "outputs": [
        {
          "output_type": "execute_result",
          "data": {
            "text/plain": [
              "array([15, 12, 21])"
            ]
          },
          "metadata": {},
          "execution_count": 7
        }
      ],
      "metadata": {}
    },
    {
      "cell_type": "code",
      "source": [
        "ventas.name = 'Ventas 2021'\n",
        "ventas.name"
      ],
      "attachments": {},
      "execution_count": 8,
      "outputs": [
        {
          "output_type": "execute_result",
          "data": {
            "text/plain": [
              "'Ventas 2021'"
            ]
          },
          "metadata": {},
          "execution_count": 8
        }
      ],
      "metadata": {}
    },
    {
      "cell_type": "code",
      "source": [
        "ventas"
      ],
      "attachments": {},
      "execution_count": 9,
      "outputs": [
        {
          "output_type": "execute_result",
          "data": {
            "text/plain": [
              "Ene    15\n",
              "Feb    12\n",
              "Mar    21\n",
              "Name: Ventas 2021, dtype: int64"
            ]
          },
          "metadata": {},
          "execution_count": 9
        }
      ],
      "metadata": {}
    },
    {
      "cell_type": "code",
      "source": [
        "ventas.index.name = 'Meses'"
      ],
      "attachments": {},
      "execution_count": 10,
      "outputs": [],
      "metadata": {}
    },
    {
      "cell_type": "code",
      "source": [
        "ventas"
      ],
      "attachments": {},
      "execution_count": 11,
      "outputs": [
        {
          "output_type": "execute_result",
          "data": {
            "text/plain": [
              "Meses\n",
              "Ene    15\n",
              "Feb    12\n",
              "Mar    21\n",
              "Name: Ventas 2021, dtype: int64"
            ]
          },
          "metadata": {},
          "execution_count": 11
        }
      ],
      "metadata": {}
    },
    {
      "cell_type": "code",
      "source": [
        "ventas.axes"
      ],
      "attachments": {},
      "execution_count": 12,
      "outputs": [
        {
          "output_type": "execute_result",
          "data": {
            "text/plain": [
              "[Index(['Ene', 'Feb', 'Mar'], dtype='object', name='Meses')]"
            ]
          },
          "metadata": {},
          "execution_count": 12
        }
      ],
      "metadata": {}
    },
    {
      "cell_type": "code",
      "source": [
        "ventas.shape"
      ],
      "attachments": {},
      "execution_count": 13,
      "outputs": [
        {
          "output_type": "execute_result",
          "data": {
            "text/plain": [
              "(3,)"
            ]
          },
          "metadata": {},
          "execution_count": 13
        }
      ],
      "metadata": {}
    },
    {
      "cell_type": "code",
      "source": [
        "import pandas as pd"
      ],
      "attachments": {},
      "execution_count": 14,
      "outputs": [],
      "metadata": {}
    },
    {
      "cell_type": "code",
      "source": [
        "datos = {'Manzanas' : [3, 2, 0, 1], 'Naranjas' : [0, 3, 7, 2]}"
      ],
      "attachments": {},
      "execution_count": 15,
      "outputs": [],
      "metadata": {}
    },
    {
      "cell_type": "code",
      "source": [
        "compras = pd.DataFrame(datos)\n",
        "compras"
      ],
      "attachments": {},
      "execution_count": 16,
      "outputs": [
        {
          "output_type": "execute_result",
          "data": {
            "text/plain": [
              "   Manzanas  Naranjas\n",
              "0         3         0\n",
              "1         2         3\n",
              "2         0         7\n",
              "3         1         2"
            ],
            "text/html": "<div>\n<style scoped>\n    .dataframe tbody tr th:only-of-type {\n        vertical-align: middle;\n    }\n\n    .dataframe tbody tr th {\n        vertical-align: top;\n    }\n\n    .dataframe thead th {\n        text-align: right;\n    }\n</style>\n<table border=\"1\" class=\"dataframe\">\n  <thead>\n    <tr style=\"text-align: right;\">\n      <th></th>\n      <th>Manzanas</th>\n      <th>Naranjas</th>\n    </tr>\n  </thead>\n  <tbody>\n    <tr>\n      <th>0</th>\n      <td>3</td>\n      <td>0</td>\n    </tr>\n    <tr>\n      <th>1</th>\n      <td>2</td>\n      <td>3</td>\n    </tr>\n    <tr>\n      <th>2</th>\n      <td>0</td>\n      <td>7</td>\n    </tr>\n    <tr>\n      <th>3</th>\n      <td>1</td>\n      <td>2</td>\n    </tr>\n  </tbody>\n</table>\n</div>"
          },
          "metadata": {},
          "execution_count": 16
        }
      ],
      "metadata": {}
    },
    {
      "cell_type": "code",
      "source": [
        "compras = pd.DataFrame(datos, index = ['Juno', 'Robert', 'Lily', 'David'])\n",
        "compras"
      ],
      "attachments": {},
      "execution_count": 17,
      "outputs": [
        {
          "output_type": "execute_result",
          "data": {
            "text/plain": [
              "        Manzanas  Naranjas\n",
              "Juno           3         0\n",
              "Robert         2         3\n",
              "Lily           0         7\n",
              "David          1         2"
            ],
            "text/html": "<div>\n<style scoped>\n    .dataframe tbody tr th:only-of-type {\n        vertical-align: middle;\n    }\n\n    .dataframe tbody tr th {\n        vertical-align: top;\n    }\n\n    .dataframe thead th {\n        text-align: right;\n    }\n</style>\n<table border=\"1\" class=\"dataframe\">\n  <thead>\n    <tr style=\"text-align: right;\">\n      <th></th>\n      <th>Manzanas</th>\n      <th>Naranjas</th>\n    </tr>\n  </thead>\n  <tbody>\n    <tr>\n      <th>Juno</th>\n      <td>3</td>\n      <td>0</td>\n    </tr>\n    <tr>\n      <th>Robert</th>\n      <td>2</td>\n      <td>3</td>\n    </tr>\n    <tr>\n      <th>Lily</th>\n      <td>0</td>\n      <td>7</td>\n    </tr>\n    <tr>\n      <th>David</th>\n      <td>1</td>\n      <td>2</td>\n    </tr>\n  </tbody>\n</table>\n</div>"
          },
          "metadata": {},
          "execution_count": 17
        }
      ],
      "metadata": {}
    },
    {
      "cell_type": "code",
      "source": [
        "compras.index"
      ],
      "attachments": {},
      "execution_count": 18,
      "outputs": [
        {
          "output_type": "execute_result",
          "data": {
            "text/plain": [
              "Index(['Juno', 'Robert', 'Lily', 'David'], dtype='object')"
            ]
          },
          "metadata": {},
          "execution_count": 18
        }
      ],
      "metadata": {}
    },
    {
      "cell_type": "code",
      "source": [
        "compras.columns"
      ],
      "attachments": {},
      "execution_count": 19,
      "outputs": [
        {
          "output_type": "execute_result",
          "data": {
            "text/plain": [
              "Index(['Manzanas', 'Naranjas'], dtype='object')"
            ]
          },
          "metadata": {},
          "execution_count": 19
        }
      ],
      "metadata": {}
    },
    {
      "cell_type": "code",
      "source": [
        "compras.axes"
      ],
      "attachments": {},
      "execution_count": 20,
      "outputs": [
        {
          "output_type": "execute_result",
          "data": {
            "text/plain": [
              "[Index(['Juno', 'Robert', 'Lily', 'David'], dtype='object'),\n",
              " Index(['Manzanas', 'Naranjas'], dtype='object')]"
            ]
          },
          "metadata": {},
          "execution_count": 20
        }
      ],
      "metadata": {}
    },
    {
      "cell_type": "code",
      "source": [
        "compras.index.name = 'Clientes'"
      ],
      "attachments": {},
      "execution_count": 21,
      "outputs": [],
      "metadata": {}
    },
    {
      "cell_type": "code",
      "source": [
        "compras.columns.name = 'Frutas'"
      ],
      "attachments": {},
      "execution_count": 22,
      "outputs": [],
      "metadata": {}
    },
    {
      "cell_type": "code",
      "source": [
        "compras"
      ],
      "attachments": {},
      "execution_count": 23,
      "outputs": [
        {
          "output_type": "execute_result",
          "data": {
            "text/plain": [
              "Frutas    Manzanas  Naranjas\n",
              "Clientes                    \n",
              "Juno             3         0\n",
              "Robert           2         3\n",
              "Lily             0         7\n",
              "David            1         2"
            ],
            "text/html": "<div>\n<style scoped>\n    .dataframe tbody tr th:only-of-type {\n        vertical-align: middle;\n    }\n\n    .dataframe tbody tr th {\n        vertical-align: top;\n    }\n\n    .dataframe thead th {\n        text-align: right;\n    }\n</style>\n<table border=\"1\" class=\"dataframe\">\n  <thead>\n    <tr style=\"text-align: right;\">\n      <th>Frutas</th>\n      <th>Manzanas</th>\n      <th>Naranjas</th>\n    </tr>\n    <tr>\n      <th>Clientes</th>\n      <th></th>\n      <th></th>\n    </tr>\n  </thead>\n  <tbody>\n    <tr>\n      <th>Juno</th>\n      <td>3</td>\n      <td>0</td>\n    </tr>\n    <tr>\n      <th>Robert</th>\n      <td>2</td>\n      <td>3</td>\n    </tr>\n    <tr>\n      <th>Lily</th>\n      <td>0</td>\n      <td>7</td>\n    </tr>\n    <tr>\n      <th>David</th>\n      <td>1</td>\n      <td>2</td>\n    </tr>\n  </tbody>\n</table>\n</div>"
          },
          "metadata": {},
          "execution_count": 23
        }
      ],
      "metadata": {}
    },
    {
      "cell_type": "code",
      "source": [
        "compras.values"
      ],
      "attachments": {},
      "execution_count": 24,
      "outputs": [
        {
          "output_type": "execute_result",
          "data": {
            "text/plain": [
              "array([[3, 0],\n",
              "       [2, 3],\n",
              "       [0, 7],\n",
              "       [1, 2]])"
            ]
          },
          "metadata": {},
          "execution_count": 24
        }
      ],
      "metadata": {}
    },
    {
      "cell_type": "code",
      "source": [
        "compras.shape"
      ],
      "attachments": {},
      "execution_count": 25,
      "outputs": [
        {
          "output_type": "execute_result",
          "data": {
            "text/plain": [
              "(4, 2)"
            ]
          },
          "metadata": {},
          "execution_count": 25
        }
      ],
      "metadata": {}
    },
    {
      "cell_type": "code",
      "source": [
        "import pandas as pd"
      ],
      "attachments": {},
      "execution_count": 26,
      "outputs": [],
      "metadata": {}
    },
    {
      "cell_type": "code",
      "source": [
        "s = pd.Series([7, 5, 3], index = ['Enero', 'Febrero', 'Marzo'])\n",
        "s"
      ],
      "attachments": {},
      "execution_count": 27,
      "outputs": [
        {
          "output_type": "execute_result",
          "data": {
            "text/plain": [
              "Enero      7\n",
              "Febrero    5\n",
              "Marzo      3\n",
              "dtype: int64"
            ]
          },
          "metadata": {},
          "execution_count": 27
        }
      ],
      "metadata": {}
    },
    {
      "cell_type": "code",
      "source": [
        "d = {'Enero': 7, 'Febrero': 5, 'Marzo': 3}\n",
        "s = pd.Series(d)\n",
        "s"
      ],
      "attachments": {},
      "execution_count": 28,
      "outputs": [
        {
          "output_type": "execute_result",
          "data": {
            "text/plain": [
              "Enero      7\n",
              "Febrero    5\n",
              "Marzo      3\n",
              "dtype: int64"
            ]
          },
          "metadata": {},
          "execution_count": 28
        }
      ],
      "metadata": {}
    },
    {
      "cell_type": "code",
      "source": [
        "s = pd.Series(d, index = ['Abril', 'Marzo', 'Febrero', 'Enero'], dtype=int)\n",
        "s"
      ],
      "attachments": {},
      "execution_count": 29,
      "outputs": [
        {
          "output_type": "execute_result",
          "data": {
            "text/plain": [
              "Abril      NaN\n",
              "Marzo      3.0\n",
              "Febrero    5.0\n",
              "Enero      7.0\n",
              "dtype: float64"
            ]
          },
          "metadata": {},
          "execution_count": 29
        }
      ],
      "metadata": {}
    },
    {
      "cell_type": "code",
      "source": [
        "s = pd.Series(7, index = ['Enero', 'Febrero', 'Marzo', 'Abril'])\n",
        "s"
      ],
      "attachments": {},
      "execution_count": 30,
      "outputs": [
        {
          "output_type": "execute_result",
          "data": {
            "text/plain": [
              "Enero      7\n",
              "Febrero    7\n",
              "Marzo      7\n",
              "Abril      7\n",
              "dtype: int64"
            ]
          },
          "metadata": {},
          "execution_count": 30
        }
      ],
      "metadata": {}
    },
    {
      "cell_type": "code",
      "source": [
        "datos = pd.Series([15, 16, 17, 18, 19], index = [ 'Libardo', 'Stella','Mauricio', 'Libardo A', 'Daniel'], name = 'Familia')\n",
        "datos"
      ],
      "attachments": {},
      "execution_count": 31,
      "outputs": [
        {
          "output_type": "execute_result",
          "data": {
            "text/plain": [
              "Libardo      15\n",
              "Stella       16\n",
              "Mauricio     17\n",
              "Libardo A    18\n",
              "Daniel       19\n",
              "Name: Familia, dtype: int64"
            ]
          },
          "metadata": {},
          "execution_count": 31
        }
      ],
      "metadata": {}
    },
    {
      "cell_type": "code",
      "source": [
        "datos['Mauricio']"
      ],
      "attachments": {},
      "execution_count": 32,
      "outputs": [
        {
          "output_type": "execute_result",
          "data": {
            "text/plain": [
              "17"
            ]
          },
          "metadata": {},
          "execution_count": 32
        }
      ],
      "metadata": {}
    },
    {
      "cell_type": "code",
      "source": [
        "datos[0]"
      ],
      "attachments": {},
      "execution_count": 33,
      "outputs": [
        {
          "output_type": "execute_result",
          "data": {
            "text/plain": [
              "15"
            ]
          },
          "metadata": {},
          "execution_count": 33
        }
      ],
      "metadata": {}
    },
    {
      "cell_type": "code",
      "source": [
        "datos.dtype"
      ],
      "attachments": {},
      "execution_count": 34,
      "outputs": [
        {
          "output_type": "execute_result",
          "data": {
            "text/plain": [
              "dtype('int64')"
            ]
          },
          "metadata": {},
          "execution_count": 34
        }
      ],
      "metadata": {}
    },
    {
      "cell_type": "code",
      "source": [
        "datos.index"
      ],
      "attachments": {},
      "execution_count": 35,
      "outputs": [
        {
          "output_type": "execute_result",
          "data": {
            "text/plain": [
              "Index(['Libardo', 'Stella', 'Mauricio', 'Libardo A', 'Daniel'], dtype='object')"
            ]
          },
          "metadata": {},
          "execution_count": 35
        }
      ],
      "metadata": {}
    },
    {
      "cell_type": "code",
      "source": [
        "datos.values"
      ],
      "attachments": {},
      "execution_count": 36,
      "outputs": [
        {
          "output_type": "execute_result",
          "data": {
            "text/plain": [
              "array([15, 16, 17, 18, 19])"
            ]
          },
          "metadata": {},
          "execution_count": 36
        }
      ],
      "metadata": {}
    },
    {
      "cell_type": "code",
      "source": [
        "datos.name = 'Familia 2021'\n",
        "datos.name"
      ],
      "attachments": {},
      "execution_count": 37,
      "outputs": [
        {
          "output_type": "execute_result",
          "data": {
            "text/plain": [
              "'Familia 2021'"
            ]
          },
          "metadata": {},
          "execution_count": 37
        }
      ],
      "metadata": {}
    },
    {
      "cell_type": "code",
      "source": [
        "datos"
      ],
      "attachments": {},
      "execution_count": 38,
      "outputs": [
        {
          "output_type": "execute_result",
          "data": {
            "text/plain": [
              "Libardo      15\n",
              "Stella       16\n",
              "Mauricio     17\n",
              "Libardo A    18\n",
              "Daniel       19\n",
              "Name: Familia 2021, dtype: int64"
            ]
          },
          "metadata": {},
          "execution_count": 38
        }
      ],
      "metadata": {}
    },
    {
      "cell_type": "code",
      "source": [
        "datos.index.name = 'Integrantes'\n",
        "datos"
      ],
      "attachments": {},
      "execution_count": 39,
      "outputs": [
        {
          "output_type": "execute_result",
          "data": {
            "text/plain": [
              "Integrantes\n",
              "Libardo      15\n",
              "Stella       16\n",
              "Mauricio     17\n",
              "Libardo A    18\n",
              "Daniel       19\n",
              "Name: Familia 2021, dtype: int64"
            ]
          },
          "metadata": {},
          "execution_count": 39
        }
      ],
      "metadata": {}
    },
    {
      "cell_type": "code",
      "source": [
        "datos.axes"
      ],
      "attachments": {},
      "execution_count": 40,
      "outputs": [
        {
          "output_type": "execute_result",
          "data": {
            "text/plain": [
              "[Index(['Libardo', 'Stella', 'Mauricio', 'Libardo A', 'Daniel'], dtype='object', name='Integrantes')]"
            ]
          },
          "metadata": {},
          "execution_count": 40
        }
      ],
      "metadata": {}
    },
    {
      "cell_type": "code",
      "source": [
        "datos.shape"
      ],
      "attachments": {},
      "execution_count": 41,
      "outputs": [
        {
          "output_type": "execute_result",
          "data": {
            "text/plain": [
              "(5,)"
            ]
          },
          "metadata": {},
          "execution_count": 41
        }
      ],
      "metadata": {}
    },
    {
      "cell_type": "code",
      "source": [
        "familia = pd.DataFrame(datos)\n",
        "familia"
      ],
      "attachments": {},
      "execution_count": 42,
      "outputs": [
        {
          "output_type": "execute_result",
          "data": {
            "text/plain": [
              "             Familia 2021\n",
              "Integrantes              \n",
              "Libardo                15\n",
              "Stella                 16\n",
              "Mauricio               17\n",
              "Libardo A              18\n",
              "Daniel                 19"
            ],
            "text/html": "<div>\n<style scoped>\n    .dataframe tbody tr th:only-of-type {\n        vertical-align: middle;\n    }\n\n    .dataframe tbody tr th {\n        vertical-align: top;\n    }\n\n    .dataframe thead th {\n        text-align: right;\n    }\n</style>\n<table border=\"1\" class=\"dataframe\">\n  <thead>\n    <tr style=\"text-align: right;\">\n      <th></th>\n      <th>Familia 2021</th>\n    </tr>\n    <tr>\n      <th>Integrantes</th>\n      <th></th>\n    </tr>\n  </thead>\n  <tbody>\n    <tr>\n      <th>Libardo</th>\n      <td>15</td>\n    </tr>\n    <tr>\n      <th>Stella</th>\n      <td>16</td>\n    </tr>\n    <tr>\n      <th>Mauricio</th>\n      <td>17</td>\n    </tr>\n    <tr>\n      <th>Libardo A</th>\n      <td>18</td>\n    </tr>\n    <tr>\n      <th>Daniel</th>\n      <td>19</td>\n    </tr>\n  </tbody>\n</table>\n</div>"
          },
          "metadata": {},
          "execution_count": 42
        }
      ],
      "metadata": {}
    },
    {
      "cell_type": "code",
      "source": [
        "familia['Familia 2022'] = [55, 23, 67, 83, 21]\n",
        "familia"
      ],
      "attachments": {},
      "execution_count": 43,
      "outputs": [
        {
          "output_type": "execute_result",
          "data": {
            "text/plain": [
              "             Familia 2021  Familia 2022\n",
              "Integrantes                            \n",
              "Libardo                15            55\n",
              "Stella                 16            23\n",
              "Mauricio               17            67\n",
              "Libardo A              18            83\n",
              "Daniel                 19            21"
            ],
            "text/html": "<div>\n<style scoped>\n    .dataframe tbody tr th:only-of-type {\n        vertical-align: middle;\n    }\n\n    .dataframe tbody tr th {\n        vertical-align: top;\n    }\n\n    .dataframe thead th {\n        text-align: right;\n    }\n</style>\n<table border=\"1\" class=\"dataframe\">\n  <thead>\n    <tr style=\"text-align: right;\">\n      <th></th>\n      <th>Familia 2021</th>\n      <th>Familia 2022</th>\n    </tr>\n    <tr>\n      <th>Integrantes</th>\n      <th></th>\n      <th></th>\n    </tr>\n  </thead>\n  <tbody>\n    <tr>\n      <th>Libardo</th>\n      <td>15</td>\n      <td>55</td>\n    </tr>\n    <tr>\n      <th>Stella</th>\n      <td>16</td>\n      <td>23</td>\n    </tr>\n    <tr>\n      <th>Mauricio</th>\n      <td>17</td>\n      <td>67</td>\n    </tr>\n    <tr>\n      <th>Libardo A</th>\n      <td>18</td>\n      <td>83</td>\n    </tr>\n    <tr>\n      <th>Daniel</th>\n      <td>19</td>\n      <td>21</td>\n    </tr>\n  </tbody>\n</table>\n</div>"
          },
          "metadata": {},
          "execution_count": 43
        }
      ],
      "metadata": {}
    },
    {
      "cell_type": "code",
      "source": [
        "familia.index"
      ],
      "attachments": {},
      "execution_count": 44,
      "outputs": [
        {
          "output_type": "execute_result",
          "data": {
            "text/plain": [
              "Index(['Libardo', 'Stella', 'Mauricio', 'Libardo A', 'Daniel'], dtype='object', name='Integrantes')"
            ]
          },
          "metadata": {},
          "execution_count": 44
        }
      ],
      "metadata": {}
    },
    {
      "cell_type": "code",
      "source": [
        "familia['Familia 2022']"
      ],
      "attachments": {},
      "execution_count": 45,
      "outputs": [
        {
          "output_type": "execute_result",
          "data": {
            "text/plain": [
              "Integrantes\n",
              "Libardo      55\n",
              "Stella       23\n",
              "Mauricio     67\n",
              "Libardo A    83\n",
              "Daniel       21\n",
              "Name: Familia 2022, dtype: int64"
            ]
          },
          "metadata": {},
          "execution_count": 45
        }
      ],
      "metadata": {}
    },
    {
      "cell_type": "code",
      "source": [
        "familia.columns"
      ],
      "attachments": {},
      "execution_count": 46,
      "outputs": [
        {
          "output_type": "execute_result",
          "data": {
            "text/plain": [
              "Index(['Familia 2021', 'Familia 2022'], dtype='object')"
            ]
          },
          "metadata": {},
          "execution_count": 46
        }
      ],
      "metadata": {}
    },
    {
      "cell_type": "code",
      "source": [
        "familia['Familia 2023'] = 0\n",
        "familia"
      ],
      "attachments": {},
      "execution_count": 47,
      "outputs": [
        {
          "output_type": "execute_result",
          "data": {
            "text/plain": [
              "             Familia 2021  Familia 2022  Familia 2023\n",
              "Integrantes                                          \n",
              "Libardo                15            55             0\n",
              "Stella                 16            23             0\n",
              "Mauricio               17            67             0\n",
              "Libardo A              18            83             0\n",
              "Daniel                 19            21             0"
            ],
            "text/html": "<div>\n<style scoped>\n    .dataframe tbody tr th:only-of-type {\n        vertical-align: middle;\n    }\n\n    .dataframe tbody tr th {\n        vertical-align: top;\n    }\n\n    .dataframe thead th {\n        text-align: right;\n    }\n</style>\n<table border=\"1\" class=\"dataframe\">\n  <thead>\n    <tr style=\"text-align: right;\">\n      <th></th>\n      <th>Familia 2021</th>\n      <th>Familia 2022</th>\n      <th>Familia 2023</th>\n    </tr>\n    <tr>\n      <th>Integrantes</th>\n      <th></th>\n      <th></th>\n      <th></th>\n    </tr>\n  </thead>\n  <tbody>\n    <tr>\n      <th>Libardo</th>\n      <td>15</td>\n      <td>55</td>\n      <td>0</td>\n    </tr>\n    <tr>\n      <th>Stella</th>\n      <td>16</td>\n      <td>23</td>\n      <td>0</td>\n    </tr>\n    <tr>\n      <th>Mauricio</th>\n      <td>17</td>\n      <td>67</td>\n      <td>0</td>\n    </tr>\n    <tr>\n      <th>Libardo A</th>\n      <td>18</td>\n      <td>83</td>\n      <td>0</td>\n    </tr>\n    <tr>\n      <th>Daniel</th>\n      <td>19</td>\n      <td>21</td>\n      <td>0</td>\n    </tr>\n  </tbody>\n</table>\n</div>"
          },
          "metadata": {},
          "execution_count": 47
        }
      ],
      "metadata": {}
    },
    {
      "cell_type": "code",
      "source": [
        "familia.index.name = 'Personas'\n",
        "familia"
      ],
      "attachments": {},
      "execution_count": 48,
      "outputs": [
        {
          "output_type": "execute_result",
          "data": {
            "text/plain": [
              "           Familia 2021  Familia 2022  Familia 2023\n",
              "Personas                                           \n",
              "Libardo              15            55             0\n",
              "Stella               16            23             0\n",
              "Mauricio             17            67             0\n",
              "Libardo A            18            83             0\n",
              "Daniel               19            21             0"
            ],
            "text/html": "<div>\n<style scoped>\n    .dataframe tbody tr th:only-of-type {\n        vertical-align: middle;\n    }\n\n    .dataframe tbody tr th {\n        vertical-align: top;\n    }\n\n    .dataframe thead th {\n        text-align: right;\n    }\n</style>\n<table border=\"1\" class=\"dataframe\">\n  <thead>\n    <tr style=\"text-align: right;\">\n      <th></th>\n      <th>Familia 2021</th>\n      <th>Familia 2022</th>\n      <th>Familia 2023</th>\n    </tr>\n    <tr>\n      <th>Personas</th>\n      <th></th>\n      <th></th>\n      <th></th>\n    </tr>\n  </thead>\n  <tbody>\n    <tr>\n      <th>Libardo</th>\n      <td>15</td>\n      <td>55</td>\n      <td>0</td>\n    </tr>\n    <tr>\n      <th>Stella</th>\n      <td>16</td>\n      <td>23</td>\n      <td>0</td>\n    </tr>\n    <tr>\n      <th>Mauricio</th>\n      <td>17</td>\n      <td>67</td>\n      <td>0</td>\n    </tr>\n    <tr>\n      <th>Libardo A</th>\n      <td>18</td>\n      <td>83</td>\n      <td>0</td>\n    </tr>\n    <tr>\n      <th>Daniel</th>\n      <td>19</td>\n      <td>21</td>\n      <td>0</td>\n    </tr>\n  </tbody>\n</table>\n</div>"
          },
          "metadata": {},
          "execution_count": 48
        }
      ],
      "metadata": {}
    },
    {
      "cell_type": "code",
      "source": [
        "familia.columns.name = 'Años'\n",
        "familia"
      ],
      "attachments": {},
      "execution_count": 49,
      "outputs": [
        {
          "output_type": "execute_result",
          "data": {
            "text/plain": [
              "Años       Familia 2021  Familia 2022  Familia 2023\n",
              "Personas                                           \n",
              "Libardo              15            55             0\n",
              "Stella               16            23             0\n",
              "Mauricio             17            67             0\n",
              "Libardo A            18            83             0\n",
              "Daniel               19            21             0"
            ],
            "text/html": "<div>\n<style scoped>\n    .dataframe tbody tr th:only-of-type {\n        vertical-align: middle;\n    }\n\n    .dataframe tbody tr th {\n        vertical-align: top;\n    }\n\n    .dataframe thead th {\n        text-align: right;\n    }\n</style>\n<table border=\"1\" class=\"dataframe\">\n  <thead>\n    <tr style=\"text-align: right;\">\n      <th>Años</th>\n      <th>Familia 2021</th>\n      <th>Familia 2022</th>\n      <th>Familia 2023</th>\n    </tr>\n    <tr>\n      <th>Personas</th>\n      <th></th>\n      <th></th>\n      <th></th>\n    </tr>\n  </thead>\n  <tbody>\n    <tr>\n      <th>Libardo</th>\n      <td>15</td>\n      <td>55</td>\n      <td>0</td>\n    </tr>\n    <tr>\n      <th>Stella</th>\n      <td>16</td>\n      <td>23</td>\n      <td>0</td>\n    </tr>\n    <tr>\n      <th>Mauricio</th>\n      <td>17</td>\n      <td>67</td>\n      <td>0</td>\n    </tr>\n    <tr>\n      <th>Libardo A</th>\n      <td>18</td>\n      <td>83</td>\n      <td>0</td>\n    </tr>\n    <tr>\n      <th>Daniel</th>\n      <td>19</td>\n      <td>21</td>\n      <td>0</td>\n    </tr>\n  </tbody>\n</table>\n</div>"
          },
          "metadata": {},
          "execution_count": 49
        }
      ],
      "metadata": {}
    },
    {
      "cell_type": "code",
      "source": [
        "familia.values"
      ],
      "attachments": {},
      "execution_count": 50,
      "outputs": [
        {
          "output_type": "execute_result",
          "data": {
            "text/plain": [
              "array([[15, 55,  0],\n",
              "       [16, 23,  0],\n",
              "       [17, 67,  0],\n",
              "       [18, 83,  0],\n",
              "       [19, 21,  0]])"
            ]
          },
          "metadata": {},
          "execution_count": 50
        }
      ],
      "metadata": {}
    },
    {
      "cell_type": "code",
      "source": [
        "familia.shape"
      ],
      "attachments": {},
      "execution_count": 51,
      "outputs": [
        {
          "output_type": "execute_result",
          "data": {
            "text/plain": [
              "(5, 3)"
            ]
          },
          "metadata": {},
          "execution_count": 51
        }
      ],
      "metadata": {}
    },
    {
      "cell_type": "code",
      "source": [
        "cumpleaños = pd.Series([9, 29, 9, 24, 22])\n",
        "cumpleaños"
      ],
      "attachments": {},
      "execution_count": 52,
      "outputs": [
        {
          "output_type": "execute_result",
          "data": {
            "text/plain": [
              "0     9\n",
              "1    29\n",
              "2     9\n",
              "3    24\n",
              "4    22\n",
              "dtype: int64"
            ]
          },
          "metadata": {},
          "execution_count": 52
        }
      ],
      "metadata": {}
    },
    {
      "cell_type": "code",
      "source": [
        "cumpleaños.index = ['Libardo', 'Stella', 'Mauricio', 'Libardo', 'Daniel']\n",
        "cumpleaños"
      ],
      "attachments": {},
      "execution_count": 53,
      "outputs": [
        {
          "output_type": "execute_result",
          "data": {
            "text/plain": [
              "Libardo      9\n",
              "Stella      29\n",
              "Mauricio     9\n",
              "Libardo     24\n",
              "Daniel      22\n",
              "dtype: int64"
            ]
          },
          "metadata": {},
          "execution_count": 53
        }
      ],
      "metadata": {}
    },
    {
      "cell_type": "code",
      "source": [
        "cumpleaños.index.name = 'Personas'\n",
        "cumpleaños"
      ],
      "attachments": {},
      "execution_count": 54,
      "outputs": [
        {
          "output_type": "execute_result",
          "data": {
            "text/plain": [
              "Personas\n",
              "Libardo      9\n",
              "Stella      29\n",
              "Mauricio     9\n",
              "Libardo     24\n",
              "Daniel      22\n",
              "dtype: int64"
            ]
          },
          "metadata": {},
          "execution_count": 54
        }
      ],
      "metadata": {}
    },
    {
      "cell_type": "code",
      "source": [
        "productos = {'Tomate': [10, 73, 98, 12], 'Lechuga': [20, 74, 34, 56], 'Cebolla': [34, 33, 72, 90]}\n",
        "viveres = pd.Series(productos, index = ['Papa', 'Tomate', 'Cebolla', 'Lechuga'], name = 'Enero')\n",
        "viveres"
      ],
      "attachments": {},
      "execution_count": 55,
      "outputs": [
        {
          "output_type": "execute_result",
          "data": {
            "text/plain": [
              "Papa                    NaN\n",
              "Tomate     [10, 73, 98, 12]\n",
              "Cebolla    [34, 33, 72, 90]\n",
              "Lechuga    [20, 74, 34, 56]\n",
              "Name: Enero, dtype: object"
            ]
          },
          "metadata": {},
          "execution_count": 55
        }
      ],
      "metadata": {}
    },
    {
      "cell_type": "code",
      "source": [
        "productos"
      ],
      "attachments": {},
      "execution_count": 56,
      "outputs": [
        {
          "output_type": "execute_result",
          "data": {
            "text/plain": [
              "{'Tomate': [10, 73, 98, 12],\n",
              " 'Lechuga': [20, 74, 34, 56],\n",
              " 'Cebolla': [34, 33, 72, 90]}"
            ]
          },
          "metadata": {},
          "execution_count": 56
        }
      ],
      "metadata": {}
    },
    {
      "cell_type": "code",
      "source": [
        "tienda = pd.DataFrame(productos)\n",
        "tienda"
      ],
      "attachments": {},
      "execution_count": 57,
      "outputs": [
        {
          "output_type": "execute_result",
          "data": {
            "text/plain": [
              "   Tomate  Lechuga  Cebolla\n",
              "0      10       20       34\n",
              "1      73       74       33\n",
              "2      98       34       72\n",
              "3      12       56       90"
            ],
            "text/html": "<div>\n<style scoped>\n    .dataframe tbody tr th:only-of-type {\n        vertical-align: middle;\n    }\n\n    .dataframe tbody tr th {\n        vertical-align: top;\n    }\n\n    .dataframe thead th {\n        text-align: right;\n    }\n</style>\n<table border=\"1\" class=\"dataframe\">\n  <thead>\n    <tr style=\"text-align: right;\">\n      <th></th>\n      <th>Tomate</th>\n      <th>Lechuga</th>\n      <th>Cebolla</th>\n    </tr>\n  </thead>\n  <tbody>\n    <tr>\n      <th>0</th>\n      <td>10</td>\n      <td>20</td>\n      <td>34</td>\n    </tr>\n    <tr>\n      <th>1</th>\n      <td>73</td>\n      <td>74</td>\n      <td>33</td>\n    </tr>\n    <tr>\n      <th>2</th>\n      <td>98</td>\n      <td>34</td>\n      <td>72</td>\n    </tr>\n    <tr>\n      <th>3</th>\n      <td>12</td>\n      <td>56</td>\n      <td>90</td>\n    </tr>\n  </tbody>\n</table>\n</div>"
          },
          "metadata": {},
          "execution_count": 57
        }
      ],
      "metadata": {}
    },
    {
      "cell_type": "code",
      "source": [
        "tienda.index = ['Enero', 'Febrero', 'Marzo', 'Abril']\n",
        "tienda.index.name = 'Meses'\n",
        "tienda.columns.name = 'Productos'\n",
        "tienda"
      ],
      "attachments": {},
      "execution_count": 58,
      "outputs": [
        {
          "output_type": "execute_result",
          "data": {
            "text/plain": [
              "Productos  Tomate  Lechuga  Cebolla\n",
              "Meses                              \n",
              "Enero          10       20       34\n",
              "Febrero        73       74       33\n",
              "Marzo          98       34       72\n",
              "Abril          12       56       90"
            ],
            "text/html": "<div>\n<style scoped>\n    .dataframe tbody tr th:only-of-type {\n        vertical-align: middle;\n    }\n\n    .dataframe tbody tr th {\n        vertical-align: top;\n    }\n\n    .dataframe thead th {\n        text-align: right;\n    }\n</style>\n<table border=\"1\" class=\"dataframe\">\n  <thead>\n    <tr style=\"text-align: right;\">\n      <th>Productos</th>\n      <th>Tomate</th>\n      <th>Lechuga</th>\n      <th>Cebolla</th>\n    </tr>\n    <tr>\n      <th>Meses</th>\n      <th></th>\n      <th></th>\n      <th></th>\n    </tr>\n  </thead>\n  <tbody>\n    <tr>\n      <th>Enero</th>\n      <td>10</td>\n      <td>20</td>\n      <td>34</td>\n    </tr>\n    <tr>\n      <th>Febrero</th>\n      <td>73</td>\n      <td>74</td>\n      <td>33</td>\n    </tr>\n    <tr>\n      <th>Marzo</th>\n      <td>98</td>\n      <td>34</td>\n      <td>72</td>\n    </tr>\n    <tr>\n      <th>Abril</th>\n      <td>12</td>\n      <td>56</td>\n      <td>90</td>\n    </tr>\n  </tbody>\n</table>\n</div>"
          },
          "metadata": {},
          "execution_count": 58
        }
      ],
      "metadata": {}
    },
    {
      "cell_type": "code",
      "source": [
        "tienda = pd.DataFrame(productos, index = ['Marzo', 'Abril', 'Enero', 'Febrero'], columns = ['Cebolla', 'Tomate', 'Lechuga'])\n",
        "tienda"
      ],
      "attachments": {},
      "execution_count": 59,
      "outputs": [
        {
          "output_type": "execute_result",
          "data": {
            "text/plain": [
              "         Cebolla  Tomate  Lechuga\n",
              "Marzo         34      10       20\n",
              "Abril         33      73       74\n",
              "Enero         72      98       34\n",
              "Febrero       90      12       56"
            ],
            "text/html": "<div>\n<style scoped>\n    .dataframe tbody tr th:only-of-type {\n        vertical-align: middle;\n    }\n\n    .dataframe tbody tr th {\n        vertical-align: top;\n    }\n\n    .dataframe thead th {\n        text-align: right;\n    }\n</style>\n<table border=\"1\" class=\"dataframe\">\n  <thead>\n    <tr style=\"text-align: right;\">\n      <th></th>\n      <th>Cebolla</th>\n      <th>Tomate</th>\n      <th>Lechuga</th>\n    </tr>\n  </thead>\n  <tbody>\n    <tr>\n      <th>Marzo</th>\n      <td>34</td>\n      <td>10</td>\n      <td>20</td>\n    </tr>\n    <tr>\n      <th>Abril</th>\n      <td>33</td>\n      <td>73</td>\n      <td>74</td>\n    </tr>\n    <tr>\n      <th>Enero</th>\n      <td>72</td>\n      <td>98</td>\n      <td>34</td>\n    </tr>\n    <tr>\n      <th>Febrero</th>\n      <td>90</td>\n      <td>12</td>\n      <td>56</td>\n    </tr>\n  </tbody>\n</table>\n</div>"
          },
          "metadata": {},
          "execution_count": 59
        }
      ],
      "metadata": {}
    },
    {
      "cell_type": "code",
      "source": [
        "import numpy as np"
      ],
      "attachments": {},
      "execution_count": 60,
      "outputs": [],
      "metadata": {}
    },
    {
      "cell_type": "code",
      "source": [
        "unidades_datos = np.array([[1, 2, 3, 5], [4, 6, 7, 2], [3, 2, 4, 1]])\n",
        "unidades_datos"
      ],
      "attachments": {},
      "execution_count": 61,
      "outputs": [
        {
          "output_type": "execute_result",
          "data": {
            "text/plain": [
              "array([[1, 2, 3, 5],\n",
              "       [4, 6, 7, 2],\n",
              "       [3, 2, 4, 1]])"
            ]
          },
          "metadata": {},
          "execution_count": 61
        }
      ],
      "metadata": {}
    },
    {
      "cell_type": "code",
      "source": [
        "unidades = pd.DataFrame(unidades_datos)\n",
        "unidades"
      ],
      "attachments": {},
      "execution_count": 62,
      "outputs": [
        {
          "output_type": "execute_result",
          "data": {
            "text/plain": [
              "   0  1  2  3\n",
              "0  1  2  3  5\n",
              "1  4  6  7  2\n",
              "2  3  2  4  1"
            ],
            "text/html": "<div>\n<style scoped>\n    .dataframe tbody tr th:only-of-type {\n        vertical-align: middle;\n    }\n\n    .dataframe tbody tr th {\n        vertical-align: top;\n    }\n\n    .dataframe thead th {\n        text-align: right;\n    }\n</style>\n<table border=\"1\" class=\"dataframe\">\n  <thead>\n    <tr style=\"text-align: right;\">\n      <th></th>\n      <th>0</th>\n      <th>1</th>\n      <th>2</th>\n      <th>3</th>\n    </tr>\n  </thead>\n  <tbody>\n    <tr>\n      <th>0</th>\n      <td>1</td>\n      <td>2</td>\n      <td>3</td>\n      <td>5</td>\n    </tr>\n    <tr>\n      <th>1</th>\n      <td>4</td>\n      <td>6</td>\n      <td>7</td>\n      <td>2</td>\n    </tr>\n    <tr>\n      <th>2</th>\n      <td>3</td>\n      <td>2</td>\n      <td>4</td>\n      <td>1</td>\n    </tr>\n  </tbody>\n</table>\n</div>"
          },
          "metadata": {},
          "execution_count": 62
        }
      ],
      "metadata": {}
    },
    {
      "cell_type": "code",
      "source": [
        "unidades = pd.DataFrame(unidades_datos, index = ['AB+', 'O+', 'B+'], columns=[2015, 2016, 2017, 2018])\n",
        "unidades"
      ],
      "attachments": {},
      "execution_count": 63,
      "outputs": [
        {
          "output_type": "execute_result",
          "data": {
            "text/plain": [
              "     2015  2016  2017  2018\n",
              "AB+     1     2     3     5\n",
              "O+      4     6     7     2\n",
              "B+      3     2     4     1"
            ],
            "text/html": "<div>\n<style scoped>\n    .dataframe tbody tr th:only-of-type {\n        vertical-align: middle;\n    }\n\n    .dataframe tbody tr th {\n        vertical-align: top;\n    }\n\n    .dataframe thead th {\n        text-align: right;\n    }\n</style>\n<table border=\"1\" class=\"dataframe\">\n  <thead>\n    <tr style=\"text-align: right;\">\n      <th></th>\n      <th>2015</th>\n      <th>2016</th>\n      <th>2017</th>\n      <th>2018</th>\n    </tr>\n  </thead>\n  <tbody>\n    <tr>\n      <th>AB+</th>\n      <td>1</td>\n      <td>2</td>\n      <td>3</td>\n      <td>5</td>\n    </tr>\n    <tr>\n      <th>O+</th>\n      <td>4</td>\n      <td>6</td>\n      <td>7</td>\n      <td>2</td>\n    </tr>\n    <tr>\n      <th>B+</th>\n      <td>3</td>\n      <td>2</td>\n      <td>4</td>\n      <td>1</td>\n    </tr>\n  </tbody>\n</table>\n</div>"
          },
          "metadata": {},
          "execution_count": 63
        }
      ],
      "metadata": {}
    },
    {
      "cell_type": "code",
      "source": [
        "centro_vic = {'Ropa': 3, 'Zapatos': 5, 'Accesorios': 7}\n",
        "centro_per = {'Ropa': 2, 'Zapatos': 2, 'Accesorios': 6}\n",
        "centro_bol = {'Ropa': 8, 'Zapatos': 3, 'Accesorios': 2}\n",
        "\n",
        "centros_comerciales = pd.DataFrame([centro_vic, centro_per, centro_bol], index = ['Victoria', 'Per_plaza', 'Bolivar'])\n",
        "centros_comerciales"
      ],
      "attachments": {},
      "execution_count": 64,
      "outputs": [
        {
          "output_type": "execute_result",
          "data": {
            "text/plain": [
              "           Ropa  Zapatos  Accesorios\n",
              "Victoria      3        5           7\n",
              "Per_plaza     2        2           6\n",
              "Bolivar       8        3           2"
            ],
            "text/html": "<div>\n<style scoped>\n    .dataframe tbody tr th:only-of-type {\n        vertical-align: middle;\n    }\n\n    .dataframe tbody tr th {\n        vertical-align: top;\n    }\n\n    .dataframe thead th {\n        text-align: right;\n    }\n</style>\n<table border=\"1\" class=\"dataframe\">\n  <thead>\n    <tr style=\"text-align: right;\">\n      <th></th>\n      <th>Ropa</th>\n      <th>Zapatos</th>\n      <th>Accesorios</th>\n    </tr>\n  </thead>\n  <tbody>\n    <tr>\n      <th>Victoria</th>\n      <td>3</td>\n      <td>5</td>\n      <td>7</td>\n    </tr>\n    <tr>\n      <th>Per_plaza</th>\n      <td>2</td>\n      <td>2</td>\n      <td>6</td>\n    </tr>\n    <tr>\n      <th>Bolivar</th>\n      <td>8</td>\n      <td>3</td>\n      <td>2</td>\n    </tr>\n  </tbody>\n</table>\n</div>"
          },
          "metadata": {},
          "execution_count": 64
        }
      ],
      "metadata": {}
    },
    {
      "cell_type": "code",
      "source": [
        "unicentro = pd.Series([12, 8, 10, 15, 5, 12, 17, 20], index = ['Nike', 'Adidas', 'Rebook', 'Puma', 'UnderArmour', 'Salomon', 'Fila', 'Arcterix'])\n",
        "unicentro"
      ],
      "attachments": {},
      "execution_count": 65,
      "outputs": [
        {
          "output_type": "execute_result",
          "data": {
            "text/plain": [
              "Nike           12\n",
              "Adidas          8\n",
              "Rebook         10\n",
              "Puma           15\n",
              "UnderArmour     5\n",
              "Salomon        12\n",
              "Fila           17\n",
              "Arcterix       20\n",
              "dtype: int64"
            ]
          },
          "metadata": {},
          "execution_count": 65
        }
      ],
      "metadata": {}
    },
    {
      "cell_type": "code",
      "source": [
        "arboleda = pd.Series([34, 21, 7, 2, 3, 12, 4, 6], index = ['Puma', 'Adidas', 'Nike', 'Rebook', 'UnderArmour', 'Salomon', 'Fila', 'Arcterix'])\n",
        "arboleda"
      ],
      "attachments": {},
      "execution_count": 66,
      "outputs": [
        {
          "output_type": "execute_result",
          "data": {
            "text/plain": [
              "Puma           34\n",
              "Adidas         21\n",
              "Nike            7\n",
              "Rebook          2\n",
              "UnderArmour     3\n",
              "Salomon        12\n",
              "Fila            4\n",
              "Arcterix        6\n",
              "dtype: int64"
            ]
          },
          "metadata": {},
          "execution_count": 66
        }
      ],
      "metadata": {}
    },
    {
      "cell_type": "code",
      "source": [
        "ventas = pd.DataFrame({'Arboleda': arboleda, 'Unicentro': unicentro})\n",
        "ventas['Total'] = arboleda + unicentro\n",
        "ventas"
      ],
      "attachments": {},
      "execution_count": 67,
      "outputs": [
        {
          "output_type": "execute_result",
          "data": {
            "text/plain": [
              "             Arboleda  Unicentro  Total\n",
              "Adidas             21          8     29\n",
              "Arcterix            6         20     26\n",
              "Fila                4         17     21\n",
              "Nike                7         12     19\n",
              "Puma               34         15     49\n",
              "Rebook              2         10     12\n",
              "Salomon            12         12     24\n",
              "UnderArmour         3          5      8"
            ],
            "text/html": "<div>\n<style scoped>\n    .dataframe tbody tr th:only-of-type {\n        vertical-align: middle;\n    }\n\n    .dataframe tbody tr th {\n        vertical-align: top;\n    }\n\n    .dataframe thead th {\n        text-align: right;\n    }\n</style>\n<table border=\"1\" class=\"dataframe\">\n  <thead>\n    <tr style=\"text-align: right;\">\n      <th></th>\n      <th>Arboleda</th>\n      <th>Unicentro</th>\n      <th>Total</th>\n    </tr>\n  </thead>\n  <tbody>\n    <tr>\n      <th>Adidas</th>\n      <td>21</td>\n      <td>8</td>\n      <td>29</td>\n    </tr>\n    <tr>\n      <th>Arcterix</th>\n      <td>6</td>\n      <td>20</td>\n      <td>26</td>\n    </tr>\n    <tr>\n      <th>Fila</th>\n      <td>4</td>\n      <td>17</td>\n      <td>21</td>\n    </tr>\n    <tr>\n      <th>Nike</th>\n      <td>7</td>\n      <td>12</td>\n      <td>19</td>\n    </tr>\n    <tr>\n      <th>Puma</th>\n      <td>34</td>\n      <td>15</td>\n      <td>49</td>\n    </tr>\n    <tr>\n      <th>Rebook</th>\n      <td>2</td>\n      <td>10</td>\n      <td>12</td>\n    </tr>\n    <tr>\n      <th>Salomon</th>\n      <td>12</td>\n      <td>12</td>\n      <td>24</td>\n    </tr>\n    <tr>\n      <th>UnderArmour</th>\n      <td>3</td>\n      <td>5</td>\n      <td>8</td>\n    </tr>\n  </tbody>\n</table>\n</div>"
          },
          "metadata": {},
          "execution_count": 67
        }
      ],
      "metadata": {}
    },
    {
      "cell_type": "code",
      "source": [
        "ventas.sample(4) #aleatorio"
      ],
      "attachments": {},
      "execution_count": 68,
      "outputs": [
        {
          "output_type": "execute_result",
          "data": {
            "text/plain": [
              "          Arboleda  Unicentro  Total\n",
              "Rebook           2         10     12\n",
              "Fila             4         17     21\n",
              "Puma            34         15     49\n",
              "Arcterix         6         20     26"
            ],
            "text/html": "<div>\n<style scoped>\n    .dataframe tbody tr th:only-of-type {\n        vertical-align: middle;\n    }\n\n    .dataframe tbody tr th {\n        vertical-align: top;\n    }\n\n    .dataframe thead th {\n        text-align: right;\n    }\n</style>\n<table border=\"1\" class=\"dataframe\">\n  <thead>\n    <tr style=\"text-align: right;\">\n      <th></th>\n      <th>Arboleda</th>\n      <th>Unicentro</th>\n      <th>Total</th>\n    </tr>\n  </thead>\n  <tbody>\n    <tr>\n      <th>Rebook</th>\n      <td>2</td>\n      <td>10</td>\n      <td>12</td>\n    </tr>\n    <tr>\n      <th>Fila</th>\n      <td>4</td>\n      <td>17</td>\n      <td>21</td>\n    </tr>\n    <tr>\n      <th>Puma</th>\n      <td>34</td>\n      <td>15</td>\n      <td>49</td>\n    </tr>\n    <tr>\n      <th>Arcterix</th>\n      <td>6</td>\n      <td>20</td>\n      <td>26</td>\n    </tr>\n  </tbody>\n</table>\n</div>"
          },
          "metadata": {},
          "execution_count": 68
        }
      ],
      "metadata": {}
    },
    {
      "cell_type": "code",
      "source": [
        "ventas.head()"
      ],
      "attachments": {},
      "execution_count": 69,
      "outputs": [
        {
          "output_type": "execute_result",
          "data": {
            "text/plain": [
              "          Arboleda  Unicentro  Total\n",
              "Adidas          21          8     29\n",
              "Arcterix         6         20     26\n",
              "Fila             4         17     21\n",
              "Nike             7         12     19\n",
              "Puma            34         15     49"
            ],
            "text/html": "<div>\n<style scoped>\n    .dataframe tbody tr th:only-of-type {\n        vertical-align: middle;\n    }\n\n    .dataframe tbody tr th {\n        vertical-align: top;\n    }\n\n    .dataframe thead th {\n        text-align: right;\n    }\n</style>\n<table border=\"1\" class=\"dataframe\">\n  <thead>\n    <tr style=\"text-align: right;\">\n      <th></th>\n      <th>Arboleda</th>\n      <th>Unicentro</th>\n      <th>Total</th>\n    </tr>\n  </thead>\n  <tbody>\n    <tr>\n      <th>Adidas</th>\n      <td>21</td>\n      <td>8</td>\n      <td>29</td>\n    </tr>\n    <tr>\n      <th>Arcterix</th>\n      <td>6</td>\n      <td>20</td>\n      <td>26</td>\n    </tr>\n    <tr>\n      <th>Fila</th>\n      <td>4</td>\n      <td>17</td>\n      <td>21</td>\n    </tr>\n    <tr>\n      <th>Nike</th>\n      <td>7</td>\n      <td>12</td>\n      <td>19</td>\n    </tr>\n    <tr>\n      <th>Puma</th>\n      <td>34</td>\n      <td>15</td>\n      <td>49</td>\n    </tr>\n  </tbody>\n</table>\n</div>"
          },
          "metadata": {},
          "execution_count": 69
        }
      ],
      "metadata": {}
    },
    {
      "cell_type": "code",
      "source": [
        "ventas.tail()"
      ],
      "attachments": {},
      "execution_count": 70,
      "outputs": [
        {
          "output_type": "execute_result",
          "data": {
            "text/plain": [
              "             Arboleda  Unicentro  Total\n",
              "Nike                7         12     19\n",
              "Puma               34         15     49\n",
              "Rebook              2         10     12\n",
              "Salomon            12         12     24\n",
              "UnderArmour         3          5      8"
            ],
            "text/html": "<div>\n<style scoped>\n    .dataframe tbody tr th:only-of-type {\n        vertical-align: middle;\n    }\n\n    .dataframe tbody tr th {\n        vertical-align: top;\n    }\n\n    .dataframe thead th {\n        text-align: right;\n    }\n</style>\n<table border=\"1\" class=\"dataframe\">\n  <thead>\n    <tr style=\"text-align: right;\">\n      <th></th>\n      <th>Arboleda</th>\n      <th>Unicentro</th>\n      <th>Total</th>\n    </tr>\n  </thead>\n  <tbody>\n    <tr>\n      <th>Nike</th>\n      <td>7</td>\n      <td>12</td>\n      <td>19</td>\n    </tr>\n    <tr>\n      <th>Puma</th>\n      <td>34</td>\n      <td>15</td>\n      <td>49</td>\n    </tr>\n    <tr>\n      <th>Rebook</th>\n      <td>2</td>\n      <td>10</td>\n      <td>12</td>\n    </tr>\n    <tr>\n      <th>Salomon</th>\n      <td>12</td>\n      <td>12</td>\n      <td>24</td>\n    </tr>\n    <tr>\n      <th>UnderArmour</th>\n      <td>3</td>\n      <td>5</td>\n      <td>8</td>\n    </tr>\n  </tbody>\n</table>\n</div>"
          },
          "metadata": {},
          "execution_count": 70
        }
      ],
      "metadata": {}
    },
    {
      "cell_type": "code",
      "source": [
        "ventas"
      ],
      "attachments": {},
      "execution_count": 71,
      "outputs": [
        {
          "output_type": "execute_result",
          "data": {
            "text/plain": [
              "             Arboleda  Unicentro  Total\n",
              "Adidas             21          8     29\n",
              "Arcterix            6         20     26\n",
              "Fila                4         17     21\n",
              "Nike                7         12     19\n",
              "Puma               34         15     49\n",
              "Rebook              2         10     12\n",
              "Salomon            12         12     24\n",
              "UnderArmour         3          5      8"
            ],
            "text/html": "<div>\n<style scoped>\n    .dataframe tbody tr th:only-of-type {\n        vertical-align: middle;\n    }\n\n    .dataframe tbody tr th {\n        vertical-align: top;\n    }\n\n    .dataframe thead th {\n        text-align: right;\n    }\n</style>\n<table border=\"1\" class=\"dataframe\">\n  <thead>\n    <tr style=\"text-align: right;\">\n      <th></th>\n      <th>Arboleda</th>\n      <th>Unicentro</th>\n      <th>Total</th>\n    </tr>\n  </thead>\n  <tbody>\n    <tr>\n      <th>Adidas</th>\n      <td>21</td>\n      <td>8</td>\n      <td>29</td>\n    </tr>\n    <tr>\n      <th>Arcterix</th>\n      <td>6</td>\n      <td>20</td>\n      <td>26</td>\n    </tr>\n    <tr>\n      <th>Fila</th>\n      <td>4</td>\n      <td>17</td>\n      <td>21</td>\n    </tr>\n    <tr>\n      <th>Nike</th>\n      <td>7</td>\n      <td>12</td>\n      <td>19</td>\n    </tr>\n    <tr>\n      <th>Puma</th>\n      <td>34</td>\n      <td>15</td>\n      <td>49</td>\n    </tr>\n    <tr>\n      <th>Rebook</th>\n      <td>2</td>\n      <td>10</td>\n      <td>12</td>\n    </tr>\n    <tr>\n      <th>Salomon</th>\n      <td>12</td>\n      <td>12</td>\n      <td>24</td>\n    </tr>\n    <tr>\n      <th>UnderArmour</th>\n      <td>3</td>\n      <td>5</td>\n      <td>8</td>\n    </tr>\n  </tbody>\n</table>\n</div>"
          },
          "metadata": {},
          "execution_count": 71
        }
      ],
      "metadata": {}
    },
    {
      "cell_type": "code",
      "source": [
        "ventas.describe()"
      ],
      "attachments": {},
      "execution_count": 72,
      "outputs": [
        {
          "output_type": "execute_result",
          "data": {
            "text/plain": [
              "        Arboleda  Unicentro      Total\n",
              "count   8.000000   8.000000   8.000000\n",
              "mean   11.125000  12.375000  23.500000\n",
              "std    11.115465   4.867898  12.455636\n",
              "min     2.000000   5.000000   8.000000\n",
              "25%     3.750000   9.500000  17.250000\n",
              "50%     6.500000  12.000000  22.500000\n",
              "75%    14.250000  15.500000  26.750000\n",
              "max    34.000000  20.000000  49.000000"
            ],
            "text/html": "<div>\n<style scoped>\n    .dataframe tbody tr th:only-of-type {\n        vertical-align: middle;\n    }\n\n    .dataframe tbody tr th {\n        vertical-align: top;\n    }\n\n    .dataframe thead th {\n        text-align: right;\n    }\n</style>\n<table border=\"1\" class=\"dataframe\">\n  <thead>\n    <tr style=\"text-align: right;\">\n      <th></th>\n      <th>Arboleda</th>\n      <th>Unicentro</th>\n      <th>Total</th>\n    </tr>\n  </thead>\n  <tbody>\n    <tr>\n      <th>count</th>\n      <td>8.000000</td>\n      <td>8.000000</td>\n      <td>8.000000</td>\n    </tr>\n    <tr>\n      <th>mean</th>\n      <td>11.125000</td>\n      <td>12.375000</td>\n      <td>23.500000</td>\n    </tr>\n    <tr>\n      <th>std</th>\n      <td>11.115465</td>\n      <td>4.867898</td>\n      <td>12.455636</td>\n    </tr>\n    <tr>\n      <th>min</th>\n      <td>2.000000</td>\n      <td>5.000000</td>\n      <td>8.000000</td>\n    </tr>\n    <tr>\n      <th>25%</th>\n      <td>3.750000</td>\n      <td>9.500000</td>\n      <td>17.250000</td>\n    </tr>\n    <tr>\n      <th>50%</th>\n      <td>6.500000</td>\n      <td>12.000000</td>\n      <td>22.500000</td>\n    </tr>\n    <tr>\n      <th>75%</th>\n      <td>14.250000</td>\n      <td>15.500000</td>\n      <td>26.750000</td>\n    </tr>\n    <tr>\n      <th>max</th>\n      <td>34.000000</td>\n      <td>20.000000</td>\n      <td>49.000000</td>\n    </tr>\n  </tbody>\n</table>\n</div>"
          },
          "metadata": {},
          "execution_count": 72
        }
      ],
      "metadata": {}
    },
    {
      "cell_type": "code",
      "source": [
        "ventas.info()"
      ],
      "attachments": {},
      "execution_count": 73,
      "outputs": [
        {
          "output_type": "stream",
          "name": "stdout",
          "text": [
            "<class 'pandas.core.frame.DataFrame'>\nIndex: 8 entries, Adidas to UnderArmour\nData columns (total 3 columns):\n #   Column     Non-Null Count  Dtype\n---  ------     --------------  -----\n 0   Arboleda   8 non-null      int64\n 1   Unicentro  8 non-null      int64\n 2   Total      8 non-null      int64\ndtypes: int64(3)\nmemory usage: 256.0+ bytes\n"
          ]
        }
      ],
      "metadata": {}
    },
    {
      "cell_type": "code",
      "source": [
        "ventas['Unicentro'].value_counts()"
      ],
      "attachments": {},
      "execution_count": 74,
      "outputs": [
        {
          "output_type": "execute_result",
          "data": {
            "text/plain": [
              "12    2\n",
              "15    1\n",
              "10    1\n",
              "8     1\n",
              "5     1\n",
              "20    1\n",
              "17    1\n",
              "Name: Unicentro, dtype: int64"
            ]
          },
          "metadata": {},
          "execution_count": 74
        }
      ],
      "metadata": {}
    },
    {
      "cell_type": "code",
      "source": [
        "ventas[3:7]"
      ],
      "attachments": {},
      "execution_count": 75,
      "outputs": [
        {
          "output_type": "execute_result",
          "data": {
            "text/plain": [
              "         Arboleda  Unicentro  Total\n",
              "Nike            7         12     19\n",
              "Puma           34         15     49\n",
              "Rebook          2         10     12\n",
              "Salomon        12         12     24"
            ],
            "text/html": "<div>\n<style scoped>\n    .dataframe tbody tr th:only-of-type {\n        vertical-align: middle;\n    }\n\n    .dataframe tbody tr th {\n        vertical-align: top;\n    }\n\n    .dataframe thead th {\n        text-align: right;\n    }\n</style>\n<table border=\"1\" class=\"dataframe\">\n  <thead>\n    <tr style=\"text-align: right;\">\n      <th></th>\n      <th>Arboleda</th>\n      <th>Unicentro</th>\n      <th>Total</th>\n    </tr>\n  </thead>\n  <tbody>\n    <tr>\n      <th>Nike</th>\n      <td>7</td>\n      <td>12</td>\n      <td>19</td>\n    </tr>\n    <tr>\n      <th>Puma</th>\n      <td>34</td>\n      <td>15</td>\n      <td>49</td>\n    </tr>\n    <tr>\n      <th>Rebook</th>\n      <td>2</td>\n      <td>10</td>\n      <td>12</td>\n    </tr>\n    <tr>\n      <th>Salomon</th>\n      <td>12</td>\n      <td>12</td>\n      <td>24</td>\n    </tr>\n  </tbody>\n</table>\n</div>"
          },
          "metadata": {},
          "execution_count": 75
        }
      ],
      "metadata": {}
    },
    {
      "cell_type": "code",
      "source": [
        "ventas.shape"
      ],
      "attachments": {},
      "execution_count": 76,
      "outputs": [
        {
          "output_type": "execute_result",
          "data": {
            "text/plain": [
              "(8, 3)"
            ]
          },
          "metadata": {},
          "execution_count": 76
        }
      ],
      "metadata": {}
    },
    {
      "cell_type": "code",
      "source": [
        "ventas.loc['Puma']"
      ],
      "attachments": {},
      "execution_count": 77,
      "outputs": [
        {
          "output_type": "execute_result",
          "data": {
            "text/plain": [
              "Arboleda     34\n",
              "Unicentro    15\n",
              "Total        49\n",
              "Name: Puma, dtype: int64"
            ]
          },
          "metadata": {},
          "execution_count": 77
        }
      ],
      "metadata": {}
    },
    {
      "cell_type": "code",
      "source": [
        "ventas.iloc[0:2]"
      ],
      "attachments": {},
      "execution_count": 78,
      "outputs": [
        {
          "output_type": "execute_result",
          "data": {
            "text/plain": [
              "          Arboleda  Unicentro  Total\n",
              "Adidas          21          8     29\n",
              "Arcterix         6         20     26"
            ],
            "text/html": "<div>\n<style scoped>\n    .dataframe tbody tr th:only-of-type {\n        vertical-align: middle;\n    }\n\n    .dataframe tbody tr th {\n        vertical-align: top;\n    }\n\n    .dataframe thead th {\n        text-align: right;\n    }\n</style>\n<table border=\"1\" class=\"dataframe\">\n  <thead>\n    <tr style=\"text-align: right;\">\n      <th></th>\n      <th>Arboleda</th>\n      <th>Unicentro</th>\n      <th>Total</th>\n    </tr>\n  </thead>\n  <tbody>\n    <tr>\n      <th>Adidas</th>\n      <td>21</td>\n      <td>8</td>\n      <td>29</td>\n    </tr>\n    <tr>\n      <th>Arcterix</th>\n      <td>6</td>\n      <td>20</td>\n      <td>26</td>\n    </tr>\n  </tbody>\n</table>\n</div>"
          },
          "metadata": {},
          "execution_count": 78
        }
      ],
      "metadata": {}
    },
    {
      "cell_type": "code",
      "source": [
        "ventas['Arboleda']['Adidas'] # Primero hay que poner las columnas"
      ],
      "attachments": {},
      "execution_count": 79,
      "outputs": [
        {
          "output_type": "execute_result",
          "data": {
            "text/plain": [
              "21"
            ]
          },
          "metadata": {},
          "execution_count": 79
        }
      ],
      "metadata": {}
    },
    {
      "cell_type": "code",
      "source": [
        "ventas['Bolivar'] = pd.Series([10, 23, 13, 24, 9, 4, 8, 6], index = ['Nike', 'Adidas', 'Arcterix', 'Puma', 'Fila', 'Rebook', 'Salomon', 'UnderArmour'])\n",
        "ventas"
      ],
      "attachments": {},
      "execution_count": 80,
      "outputs": [
        {
          "output_type": "execute_result",
          "data": {
            "text/plain": [
              "             Arboleda  Unicentro  Total  Bolivar\n",
              "Adidas             21          8     29       23\n",
              "Arcterix            6         20     26       13\n",
              "Fila                4         17     21        9\n",
              "Nike                7         12     19       10\n",
              "Puma               34         15     49       24\n",
              "Rebook              2         10     12        4\n",
              "Salomon            12         12     24        8\n",
              "UnderArmour         3          5      8        6"
            ],
            "text/html": "<div>\n<style scoped>\n    .dataframe tbody tr th:only-of-type {\n        vertical-align: middle;\n    }\n\n    .dataframe tbody tr th {\n        vertical-align: top;\n    }\n\n    .dataframe thead th {\n        text-align: right;\n    }\n</style>\n<table border=\"1\" class=\"dataframe\">\n  <thead>\n    <tr style=\"text-align: right;\">\n      <th></th>\n      <th>Arboleda</th>\n      <th>Unicentro</th>\n      <th>Total</th>\n      <th>Bolivar</th>\n    </tr>\n  </thead>\n  <tbody>\n    <tr>\n      <th>Adidas</th>\n      <td>21</td>\n      <td>8</td>\n      <td>29</td>\n      <td>23</td>\n    </tr>\n    <tr>\n      <th>Arcterix</th>\n      <td>6</td>\n      <td>20</td>\n      <td>26</td>\n      <td>13</td>\n    </tr>\n    <tr>\n      <th>Fila</th>\n      <td>4</td>\n      <td>17</td>\n      <td>21</td>\n      <td>9</td>\n    </tr>\n    <tr>\n      <th>Nike</th>\n      <td>7</td>\n      <td>12</td>\n      <td>19</td>\n      <td>10</td>\n    </tr>\n    <tr>\n      <th>Puma</th>\n      <td>34</td>\n      <td>15</td>\n      <td>49</td>\n      <td>24</td>\n    </tr>\n    <tr>\n      <th>Rebook</th>\n      <td>2</td>\n      <td>10</td>\n      <td>12</td>\n      <td>4</td>\n    </tr>\n    <tr>\n      <th>Salomon</th>\n      <td>12</td>\n      <td>12</td>\n      <td>24</td>\n      <td>8</td>\n    </tr>\n    <tr>\n      <th>UnderArmour</th>\n      <td>3</td>\n      <td>5</td>\n      <td>8</td>\n      <td>6</td>\n    </tr>\n  </tbody>\n</table>\n</div>"
          },
          "metadata": {},
          "execution_count": 80
        }
      ],
      "metadata": {}
    },
    {
      "cell_type": "code",
      "source": [
        "ventas['Total'] = ventas['Arboleda'] + ventas['Unicentro'] + ventas['Bolivar']\n",
        "ventas"
      ],
      "attachments": {},
      "execution_count": 81,
      "outputs": [
        {
          "output_type": "execute_result",
          "data": {
            "text/plain": [
              "             Arboleda  Unicentro  Total  Bolivar\n",
              "Adidas             21          8     52       23\n",
              "Arcterix            6         20     39       13\n",
              "Fila                4         17     30        9\n",
              "Nike                7         12     29       10\n",
              "Puma               34         15     73       24\n",
              "Rebook              2         10     16        4\n",
              "Salomon            12         12     32        8\n",
              "UnderArmour         3          5     14        6"
            ],
            "text/html": "<div>\n<style scoped>\n    .dataframe tbody tr th:only-of-type {\n        vertical-align: middle;\n    }\n\n    .dataframe tbody tr th {\n        vertical-align: top;\n    }\n\n    .dataframe thead th {\n        text-align: right;\n    }\n</style>\n<table border=\"1\" class=\"dataframe\">\n  <thead>\n    <tr style=\"text-align: right;\">\n      <th></th>\n      <th>Arboleda</th>\n      <th>Unicentro</th>\n      <th>Total</th>\n      <th>Bolivar</th>\n    </tr>\n  </thead>\n  <tbody>\n    <tr>\n      <th>Adidas</th>\n      <td>21</td>\n      <td>8</td>\n      <td>52</td>\n      <td>23</td>\n    </tr>\n    <tr>\n      <th>Arcterix</th>\n      <td>6</td>\n      <td>20</td>\n      <td>39</td>\n      <td>13</td>\n    </tr>\n    <tr>\n      <th>Fila</th>\n      <td>4</td>\n      <td>17</td>\n      <td>30</td>\n      <td>9</td>\n    </tr>\n    <tr>\n      <th>Nike</th>\n      <td>7</td>\n      <td>12</td>\n      <td>29</td>\n      <td>10</td>\n    </tr>\n    <tr>\n      <th>Puma</th>\n      <td>34</td>\n      <td>15</td>\n      <td>73</td>\n      <td>24</td>\n    </tr>\n    <tr>\n      <th>Rebook</th>\n      <td>2</td>\n      <td>10</td>\n      <td>16</td>\n      <td>4</td>\n    </tr>\n    <tr>\n      <th>Salomon</th>\n      <td>12</td>\n      <td>12</td>\n      <td>32</td>\n      <td>8</td>\n    </tr>\n    <tr>\n      <th>UnderArmour</th>\n      <td>3</td>\n      <td>5</td>\n      <td>14</td>\n      <td>6</td>\n    </tr>\n  </tbody>\n</table>\n</div>"
          },
          "metadata": {},
          "execution_count": 81
        }
      ],
      "metadata": {}
    },
    {
      "cell_type": "code",
      "source": [
        "ventas.pop('Total')\n",
        "ventas"
      ],
      "attachments": {},
      "execution_count": 82,
      "outputs": [
        {
          "output_type": "execute_result",
          "data": {
            "text/plain": [
              "             Arboleda  Unicentro  Bolivar\n",
              "Adidas             21          8       23\n",
              "Arcterix            6         20       13\n",
              "Fila                4         17        9\n",
              "Nike                7         12       10\n",
              "Puma               34         15       24\n",
              "Rebook              2         10        4\n",
              "Salomon            12         12        8\n",
              "UnderArmour         3          5        6"
            ],
            "text/html": "<div>\n<style scoped>\n    .dataframe tbody tr th:only-of-type {\n        vertical-align: middle;\n    }\n\n    .dataframe tbody tr th {\n        vertical-align: top;\n    }\n\n    .dataframe thead th {\n        text-align: right;\n    }\n</style>\n<table border=\"1\" class=\"dataframe\">\n  <thead>\n    <tr style=\"text-align: right;\">\n      <th></th>\n      <th>Arboleda</th>\n      <th>Unicentro</th>\n      <th>Bolivar</th>\n    </tr>\n  </thead>\n  <tbody>\n    <tr>\n      <th>Adidas</th>\n      <td>21</td>\n      <td>8</td>\n      <td>23</td>\n    </tr>\n    <tr>\n      <th>Arcterix</th>\n      <td>6</td>\n      <td>20</td>\n      <td>13</td>\n    </tr>\n    <tr>\n      <th>Fila</th>\n      <td>4</td>\n      <td>17</td>\n      <td>9</td>\n    </tr>\n    <tr>\n      <th>Nike</th>\n      <td>7</td>\n      <td>12</td>\n      <td>10</td>\n    </tr>\n    <tr>\n      <th>Puma</th>\n      <td>34</td>\n      <td>15</td>\n      <td>24</td>\n    </tr>\n    <tr>\n      <th>Rebook</th>\n      <td>2</td>\n      <td>10</td>\n      <td>4</td>\n    </tr>\n    <tr>\n      <th>Salomon</th>\n      <td>12</td>\n      <td>12</td>\n      <td>8</td>\n    </tr>\n    <tr>\n      <th>UnderArmour</th>\n      <td>3</td>\n      <td>5</td>\n      <td>6</td>\n    </tr>\n  </tbody>\n</table>\n</div>"
          },
          "metadata": {},
          "execution_count": 82
        }
      ],
      "metadata": {}
    },
    {
      "cell_type": "code",
      "source": [
        "ventas['Total'] = ventas['Arboleda'] + ventas['Unicentro'] + ventas['Bolivar']\n",
        "ventas"
      ],
      "attachments": {},
      "execution_count": 83,
      "outputs": [
        {
          "output_type": "execute_result",
          "data": {
            "text/plain": [
              "             Arboleda  Unicentro  Bolivar  Total\n",
              "Adidas             21          8       23     52\n",
              "Arcterix            6         20       13     39\n",
              "Fila                4         17        9     30\n",
              "Nike                7         12       10     29\n",
              "Puma               34         15       24     73\n",
              "Rebook              2         10        4     16\n",
              "Salomon            12         12        8     32\n",
              "UnderArmour         3          5        6     14"
            ],
            "text/html": "<div>\n<style scoped>\n    .dataframe tbody tr th:only-of-type {\n        vertical-align: middle;\n    }\n\n    .dataframe tbody tr th {\n        vertical-align: top;\n    }\n\n    .dataframe thead th {\n        text-align: right;\n    }\n</style>\n<table border=\"1\" class=\"dataframe\">\n  <thead>\n    <tr style=\"text-align: right;\">\n      <th></th>\n      <th>Arboleda</th>\n      <th>Unicentro</th>\n      <th>Bolivar</th>\n      <th>Total</th>\n    </tr>\n  </thead>\n  <tbody>\n    <tr>\n      <th>Adidas</th>\n      <td>21</td>\n      <td>8</td>\n      <td>23</td>\n      <td>52</td>\n    </tr>\n    <tr>\n      <th>Arcterix</th>\n      <td>6</td>\n      <td>20</td>\n      <td>13</td>\n      <td>39</td>\n    </tr>\n    <tr>\n      <th>Fila</th>\n      <td>4</td>\n      <td>17</td>\n      <td>9</td>\n      <td>30</td>\n    </tr>\n    <tr>\n      <th>Nike</th>\n      <td>7</td>\n      <td>12</td>\n      <td>10</td>\n      <td>29</td>\n    </tr>\n    <tr>\n      <th>Puma</th>\n      <td>34</td>\n      <td>15</td>\n      <td>24</td>\n      <td>73</td>\n    </tr>\n    <tr>\n      <th>Rebook</th>\n      <td>2</td>\n      <td>10</td>\n      <td>4</td>\n      <td>16</td>\n    </tr>\n    <tr>\n      <th>Salomon</th>\n      <td>12</td>\n      <td>12</td>\n      <td>8</td>\n      <td>32</td>\n    </tr>\n    <tr>\n      <th>UnderArmour</th>\n      <td>3</td>\n      <td>5</td>\n      <td>6</td>\n      <td>14</td>\n    </tr>\n  </tbody>\n</table>\n</div>"
          },
          "metadata": {},
          "execution_count": 83
        }
      ],
      "metadata": {}
    },
    {
      "cell_type": "code",
      "source": [
        "ventas.axes"
      ],
      "attachments": {},
      "execution_count": 84,
      "outputs": [
        {
          "output_type": "execute_result",
          "data": {
            "text/plain": [
              "[Index(['Adidas', 'Arcterix', 'Fila', 'Nike', 'Puma', 'Rebook', 'Salomon',\n",
              "        'UnderArmour'],\n",
              "       dtype='object'),\n",
              " Index(['Arboleda', 'Unicentro', 'Bolivar', 'Total'], dtype='object')]"
            ]
          },
          "metadata": {},
          "execution_count": 84
        }
      ],
      "metadata": {}
    },
    {
      "cell_type": "code",
      "source": [
        "ventas.index.name = 'Marcas'\n",
        "ventas.columns.name = 'C.Comerciales'"
      ],
      "attachments": {},
      "execution_count": 85,
      "outputs": [],
      "metadata": {}
    },
    {
      "cell_type": "code",
      "source": [
        "ventas"
      ],
      "attachments": {},
      "execution_count": 86,
      "outputs": [
        {
          "output_type": "execute_result",
          "data": {
            "text/plain": [
              "C.Comerciales  Arboleda  Unicentro  Bolivar  Total\n",
              "Marcas                                            \n",
              "Adidas               21          8       23     52\n",
              "Arcterix              6         20       13     39\n",
              "Fila                  4         17        9     30\n",
              "Nike                  7         12       10     29\n",
              "Puma                 34         15       24     73\n",
              "Rebook                2         10        4     16\n",
              "Salomon              12         12        8     32\n",
              "UnderArmour           3          5        6     14"
            ],
            "text/html": "<div>\n<style scoped>\n    .dataframe tbody tr th:only-of-type {\n        vertical-align: middle;\n    }\n\n    .dataframe tbody tr th {\n        vertical-align: top;\n    }\n\n    .dataframe thead th {\n        text-align: right;\n    }\n</style>\n<table border=\"1\" class=\"dataframe\">\n  <thead>\n    <tr style=\"text-align: right;\">\n      <th>C.Comerciales</th>\n      <th>Arboleda</th>\n      <th>Unicentro</th>\n      <th>Bolivar</th>\n      <th>Total</th>\n    </tr>\n    <tr>\n      <th>Marcas</th>\n      <th></th>\n      <th></th>\n      <th></th>\n      <th></th>\n    </tr>\n  </thead>\n  <tbody>\n    <tr>\n      <th>Adidas</th>\n      <td>21</td>\n      <td>8</td>\n      <td>23</td>\n      <td>52</td>\n    </tr>\n    <tr>\n      <th>Arcterix</th>\n      <td>6</td>\n      <td>20</td>\n      <td>13</td>\n      <td>39</td>\n    </tr>\n    <tr>\n      <th>Fila</th>\n      <td>4</td>\n      <td>17</td>\n      <td>9</td>\n      <td>30</td>\n    </tr>\n    <tr>\n      <th>Nike</th>\n      <td>7</td>\n      <td>12</td>\n      <td>10</td>\n      <td>29</td>\n    </tr>\n    <tr>\n      <th>Puma</th>\n      <td>34</td>\n      <td>15</td>\n      <td>24</td>\n      <td>73</td>\n    </tr>\n    <tr>\n      <th>Rebook</th>\n      <td>2</td>\n      <td>10</td>\n      <td>4</td>\n      <td>16</td>\n    </tr>\n    <tr>\n      <th>Salomon</th>\n      <td>12</td>\n      <td>12</td>\n      <td>8</td>\n      <td>32</td>\n    </tr>\n    <tr>\n      <th>UnderArmour</th>\n      <td>3</td>\n      <td>5</td>\n      <td>6</td>\n      <td>14</td>\n    </tr>\n  </tbody>\n</table>\n</div>"
          },
          "metadata": {},
          "execution_count": 86
        }
      ],
      "metadata": {}
    },
    {
      "cell_type": "code",
      "source": [
        "import pandas as pd"
      ],
      "attachments": {},
      "execution_count": 87,
      "outputs": [],
      "metadata": {}
    },
    {
      "cell_type": "code",
      "source": [
        "df = pd.DataFrame(np.random.randint(0, 10, 24).reshape(6, 4), index = ['a', 'b', 'c', 'd', 'e', 'f'], columns = ['A', 'Basico', 'C', 'D'])\n",
        "df"
      ],
      "attachments": {},
      "execution_count": 88,
      "outputs": [
        {
          "output_type": "execute_result",
          "data": {
            "text/plain": [
              "   A  Basico  C  D\n",
              "a  4       5  1  2\n",
              "b  3       3  5  6\n",
              "c  1       3  5  6\n",
              "d  1       7  0  4\n",
              "e  2       1  6  6\n",
              "f  5       5  0  1"
            ],
            "text/html": "<div>\n<style scoped>\n    .dataframe tbody tr th:only-of-type {\n        vertical-align: middle;\n    }\n\n    .dataframe tbody tr th {\n        vertical-align: top;\n    }\n\n    .dataframe thead th {\n        text-align: right;\n    }\n</style>\n<table border=\"1\" class=\"dataframe\">\n  <thead>\n    <tr style=\"text-align: right;\">\n      <th></th>\n      <th>A</th>\n      <th>Basico</th>\n      <th>C</th>\n      <th>D</th>\n    </tr>\n  </thead>\n  <tbody>\n    <tr>\n      <th>a</th>\n      <td>4</td>\n      <td>5</td>\n      <td>1</td>\n      <td>2</td>\n    </tr>\n    <tr>\n      <th>b</th>\n      <td>3</td>\n      <td>3</td>\n      <td>5</td>\n      <td>6</td>\n    </tr>\n    <tr>\n      <th>c</th>\n      <td>1</td>\n      <td>3</td>\n      <td>5</td>\n      <td>6</td>\n    </tr>\n    <tr>\n      <th>d</th>\n      <td>1</td>\n      <td>7</td>\n      <td>0</td>\n      <td>4</td>\n    </tr>\n    <tr>\n      <th>e</th>\n      <td>2</td>\n      <td>1</td>\n      <td>6</td>\n      <td>6</td>\n    </tr>\n    <tr>\n      <th>f</th>\n      <td>5</td>\n      <td>5</td>\n      <td>0</td>\n      <td>1</td>\n    </tr>\n  </tbody>\n</table>\n</div>"
          },
          "metadata": {},
          "execution_count": 88
        }
      ],
      "metadata": {}
    },
    {
      "cell_type": "code",
      "source": [
        "df.iloc[df.index.get_loc('c'), 2]"
      ],
      "attachments": {},
      "execution_count": 89,
      "outputs": [
        {
          "output_type": "execute_result",
          "data": {
            "text/plain": [
              "5"
            ]
          },
          "metadata": {},
          "execution_count": 89
        }
      ],
      "metadata": {}
    },
    {
      "cell_type": "code",
      "source": [
        "df.columns.get_loc('D') # Devuelve la posicion de la columna"
      ],
      "attachments": {},
      "execution_count": 90,
      "outputs": [
        {
          "output_type": "execute_result",
          "data": {
            "text/plain": [
              "3"
            ]
          },
          "metadata": {},
          "execution_count": 90
        }
      ],
      "metadata": {}
    },
    {
      "cell_type": "code",
      "source": [
        "df.columns.get_indexer(['B', 'C']) # Devuelve un array con las posiciones"
      ],
      "attachments": {},
      "execution_count": 91,
      "outputs": [
        {
          "output_type": "execute_result",
          "data": {
            "text/plain": [
              "array([-1,  2])"
            ]
          },
          "metadata": {},
          "execution_count": 91
        }
      ],
      "metadata": {}
    },
    {
      "cell_type": "code",
      "source": [
        "df.index.get_loc('d') # Devuelve la posicion del indice"
      ],
      "attachments": {},
      "execution_count": 92,
      "outputs": [
        {
          "output_type": "execute_result",
          "data": {
            "text/plain": [
              "3"
            ]
          },
          "metadata": {},
          "execution_count": 92
        }
      ],
      "metadata": {}
    },
    {
      "cell_type": "code",
      "source": [
        "df.index.get_indexer(['c', 'e']) # Devuelve un array con las posiciones de los indices"
      ],
      "attachments": {},
      "execution_count": 93,
      "outputs": [
        {
          "output_type": "execute_result",
          "data": {
            "text/plain": [
              "array([2, 4])"
            ]
          },
          "metadata": {},
          "execution_count": 93
        }
      ],
      "metadata": {}
    },
    {
      "cell_type": "code",
      "source": [
        "df.iloc[df.index.get_loc('c'), 3] # devuleve el valor indice 'c' columna 3"
      ],
      "attachments": {},
      "execution_count": 94,
      "outputs": [
        {
          "output_type": "execute_result",
          "data": {
            "text/plain": [
              "6"
            ]
          },
          "metadata": {},
          "execution_count": 94
        }
      ],
      "metadata": {}
    },
    {
      "cell_type": "code",
      "source": [
        "df.iloc[[3, 5], df.columns.get_indexer(['C', 'A'])]"
      ],
      "attachments": {},
      "execution_count": 95,
      "outputs": [
        {
          "output_type": "execute_result",
          "data": {
            "text/plain": [
              "   C  A\n",
              "d  0  1\n",
              "f  0  5"
            ],
            "text/html": "<div>\n<style scoped>\n    .dataframe tbody tr th:only-of-type {\n        vertical-align: middle;\n    }\n\n    .dataframe tbody tr th {\n        vertical-align: top;\n    }\n\n    .dataframe thead th {\n        text-align: right;\n    }\n</style>\n<table border=\"1\" class=\"dataframe\">\n  <thead>\n    <tr style=\"text-align: right;\">\n      <th></th>\n      <th>C</th>\n      <th>A</th>\n    </tr>\n  </thead>\n  <tbody>\n    <tr>\n      <th>d</th>\n      <td>0</td>\n      <td>1</td>\n    </tr>\n    <tr>\n      <th>f</th>\n      <td>0</td>\n      <td>5</td>\n    </tr>\n  </tbody>\n</table>\n</div>"
          },
          "metadata": {},
          "execution_count": 95
        }
      ],
      "metadata": {}
    },
    {
      "cell_type": "code",
      "source": [
        "mask = [True, False, True, False, False, True]\n",
        "df[mask]"
      ],
      "attachments": {},
      "execution_count": 96,
      "outputs": [
        {
          "output_type": "execute_result",
          "data": {
            "text/plain": [
              "   A  Basico  C  D\n",
              "a  4       5  1  2\n",
              "c  1       3  5  6\n",
              "f  5       5  0  1"
            ],
            "text/html": "<div>\n<style scoped>\n    .dataframe tbody tr th:only-of-type {\n        vertical-align: middle;\n    }\n\n    .dataframe tbody tr th {\n        vertical-align: top;\n    }\n\n    .dataframe thead th {\n        text-align: right;\n    }\n</style>\n<table border=\"1\" class=\"dataframe\">\n  <thead>\n    <tr style=\"text-align: right;\">\n      <th></th>\n      <th>A</th>\n      <th>Basico</th>\n      <th>C</th>\n      <th>D</th>\n    </tr>\n  </thead>\n  <tbody>\n    <tr>\n      <th>a</th>\n      <td>4</td>\n      <td>5</td>\n      <td>1</td>\n      <td>2</td>\n    </tr>\n    <tr>\n      <th>c</th>\n      <td>1</td>\n      <td>3</td>\n      <td>5</td>\n      <td>6</td>\n    </tr>\n    <tr>\n      <th>f</th>\n      <td>5</td>\n      <td>5</td>\n      <td>0</td>\n      <td>1</td>\n    </tr>\n  </tbody>\n</table>\n</div>"
          },
          "metadata": {},
          "execution_count": 96
        }
      ],
      "metadata": {}
    },
    {
      "cell_type": "code",
      "source": [
        "df[df.Basico > 5]"
      ],
      "attachments": {},
      "execution_count": 97,
      "outputs": [
        {
          "output_type": "execute_result",
          "data": {
            "text/plain": [
              "   A  Basico  C  D\n",
              "d  1       7  0  4"
            ],
            "text/html": "<div>\n<style scoped>\n    .dataframe tbody tr th:only-of-type {\n        vertical-align: middle;\n    }\n\n    .dataframe tbody tr th {\n        vertical-align: top;\n    }\n\n    .dataframe thead th {\n        text-align: right;\n    }\n</style>\n<table border=\"1\" class=\"dataframe\">\n  <thead>\n    <tr style=\"text-align: right;\">\n      <th></th>\n      <th>A</th>\n      <th>Basico</th>\n      <th>C</th>\n      <th>D</th>\n    </tr>\n  </thead>\n  <tbody>\n    <tr>\n      <th>d</th>\n      <td>1</td>\n      <td>7</td>\n      <td>0</td>\n      <td>4</td>\n    </tr>\n  </tbody>\n</table>\n</div>"
          },
          "metadata": {},
          "execution_count": 97
        }
      ],
      "metadata": {}
    },
    {
      "cell_type": "code",
      "source": [
        "df.loc[df.Basico > 5]"
      ],
      "attachments": {},
      "execution_count": 98,
      "outputs": [
        {
          "output_type": "execute_result",
          "data": {
            "text/plain": [
              "   A  Basico  C  D\n",
              "d  1       7  0  4"
            ],
            "text/html": "<div>\n<style scoped>\n    .dataframe tbody tr th:only-of-type {\n        vertical-align: middle;\n    }\n\n    .dataframe tbody tr th {\n        vertical-align: top;\n    }\n\n    .dataframe thead th {\n        text-align: right;\n    }\n</style>\n<table border=\"1\" class=\"dataframe\">\n  <thead>\n    <tr style=\"text-align: right;\">\n      <th></th>\n      <th>A</th>\n      <th>Basico</th>\n      <th>C</th>\n      <th>D</th>\n    </tr>\n  </thead>\n  <tbody>\n    <tr>\n      <th>d</th>\n      <td>1</td>\n      <td>7</td>\n      <td>0</td>\n      <td>4</td>\n    </tr>\n  </tbody>\n</table>\n</div>"
          },
          "metadata": {},
          "execution_count": 98
        }
      ],
      "metadata": {}
    },
    {
      "cell_type": "code",
      "source": [
        "df.iloc[(df.Basico > 5).values]"
      ],
      "attachments": {},
      "execution_count": 99,
      "outputs": [
        {
          "output_type": "execute_result",
          "data": {
            "text/plain": [
              "   A  Basico  C  D\n",
              "d  1       7  0  4"
            ],
            "text/html": "<div>\n<style scoped>\n    .dataframe tbody tr th:only-of-type {\n        vertical-align: middle;\n    }\n\n    .dataframe tbody tr th {\n        vertical-align: top;\n    }\n\n    .dataframe thead th {\n        text-align: right;\n    }\n</style>\n<table border=\"1\" class=\"dataframe\">\n  <thead>\n    <tr style=\"text-align: right;\">\n      <th></th>\n      <th>A</th>\n      <th>Basico</th>\n      <th>C</th>\n      <th>D</th>\n    </tr>\n  </thead>\n  <tbody>\n    <tr>\n      <th>d</th>\n      <td>1</td>\n      <td>7</td>\n      <td>0</td>\n      <td>4</td>\n    </tr>\n  </tbody>\n</table>\n</div>"
          },
          "metadata": {},
          "execution_count": 99
        }
      ],
      "metadata": {}
    }
  ],
  "metadata": {
    "kernelspec": {
      "name": "python3",
      "display_name": "Python 3.8.5 64-bit ('base': conda)"
    },
    "metadata": {
      "interpreter": {
        "hash": "dca0ade3e726a953b501b15e8e990130d2b7799f14cfd9f4271676035ebe5511"
      }
    },
    "interpreter": {
      "hash": "dca0ade3e726a953b501b15e8e990130d2b7799f14cfd9f4271676035ebe5511"
    }
  },
  "nbformat": 4,
  "nbformat_minor": 0
}