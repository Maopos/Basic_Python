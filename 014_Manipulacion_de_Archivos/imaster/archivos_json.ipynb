{
 "metadata": {
  "language_info": {
   "codemirror_mode": {
    "name": "ipython",
    "version": 3
   },
   "file_extension": ".py",
   "mimetype": "text/x-python",
   "name": "python",
   "nbconvert_exporter": "python",
   "pygments_lexer": "ipython3",
   "version": "3.8.5"
  },
  "orig_nbformat": 2,
  "kernelspec": {
   "name": "python385jvsc74a57bd0dca0ade3e726a953b501b15e8e990130d2b7799f14cfd9f4271676035ebe5511",
   "display_name": "Python 3.8.5 64-bit ('base': conda)"
  },
  "metadata": {
   "interpreter": {
    "hash": "dca0ade3e726a953b501b15e8e990130d2b7799f14cfd9f4271676035ebe5511"
   }
  }
 },
 "nbformat": 4,
 "nbformat_minor": 2,
 "cells": [
  {
   "cell_type": "code",
   "execution_count": 1,
   "metadata": {},
   "outputs": [],
   "source": [
    "import json\n",
    "\n",
    "data = {}\n",
    "data['clients'] = []\n",
    "\n",
    "data['clients'].append({\n",
    "    'first_name': 'Sigrid',\n",
    "    'last_name': 'Mannock',\n",
    "    'age': 27,\n",
    "    'amount': 7.17})\n",
    "\n",
    "data['clients'].append({\n",
    "    'first_name': 'Joe',\n",
    "    'last_name': 'Hinners',\n",
    "    'age': 31,\n",
    "    'amount': [1.90, 5.50]})\n",
    "\n",
    "data['clients'].append({\n",
    "    'first_name': 'Theodoric',\n",
    "    'last_name': 'Rivers',\n",
    "    'age': 36,\n",
    "    'amount': 1.11})\n",
    "\n",
    "with open('data.json', 'w') as file:\n",
    "    json.dump(data, file, indent=4)"
   ]
  },
  {
   "cell_type": "code",
   "execution_count": 2,
   "metadata": {},
   "outputs": [
    {
     "output_type": "execute_result",
     "data": {
      "text/plain": [
       "{'clients': [{'first_name': 'Sigrid',\n",
       "   'last_name': 'Mannock',\n",
       "   'age': 27,\n",
       "   'amount': 7.17},\n",
       "  {'first_name': 'Joe',\n",
       "   'last_name': 'Hinners',\n",
       "   'age': 31,\n",
       "   'amount': [1.9, 5.5]},\n",
       "  {'first_name': 'Theodoric',\n",
       "   'last_name': 'Rivers',\n",
       "   'age': 36,\n",
       "   'amount': 1.11}]}"
      ]
     },
     "metadata": {},
     "execution_count": 2
    }
   ],
   "source": [
    "data"
   ]
  },
  {
   "cell_type": "code",
   "execution_count": 3,
   "metadata": {},
   "outputs": [
    {
     "output_type": "stream",
     "name": "stdout",
     "text": [
      "First name: Sigrid\nLast name: Mannock\nAge: 27\nAmount: 7.17\n\nFirst name: Joe\nLast name: Hinners\nAge: 31\nAmount: [1.9, 5.5]\n\nFirst name: Theodoric\nLast name: Rivers\nAge: 36\nAmount: 1.11\n\n"
     ]
    }
   ],
   "source": [
    "with open('data.json') as file:\n",
    "    data = json.load(file)\n",
    "\n",
    "    for client in data['clients']:\n",
    "        print('First name:', client['first_name'])\n",
    "        print('Last name:', client['last_name'])\n",
    "        print('Age:', client['age'])\n",
    "        print('Amount:', client['amount'])\n",
    "        print('')"
   ]
  },
  {
   "cell_type": "code",
   "execution_count": 4,
   "metadata": {},
   "outputs": [
    {
     "output_type": "execute_result",
     "data": {
      "text/plain": [
       "{'status': 'success',\n",
       " 'country': 'United States',\n",
       " 'countryCode': 'US',\n",
       " 'region': 'IL',\n",
       " 'regionName': 'Illinois',\n",
       " 'city': 'Chicago',\n",
       " 'zip': '60666',\n",
       " 'lat': 41.8781,\n",
       " 'lon': -87.6298,\n",
       " 'timezone': 'America/Chicago',\n",
       " 'isp': 'Wikimedia Foundation Inc.',\n",
       " 'org': 'Wikimedia Foundation Inc',\n",
       " 'as': 'AS14907 Wikimedia Foundation Inc.',\n",
       " 'query': '208.80.152.201'}"
      ]
     },
     "metadata": {},
     "execution_count": 4
    }
   ],
   "source": [
    "import requests\n",
    "\n",
    "resp = requests.get('http://ip-api.com/json/208.80.152.201')\n",
    "json.loads(resp.content)"
   ]
  },
  {
   "cell_type": "code",
   "execution_count": 5,
   "metadata": {},
   "outputs": [
    {
     "output_type": "execute_result",
     "data": {
      "text/plain": [
       "'{\"first_name\": \"Daniel\", \"last_name\": \"Rodr\\\\u00edguez\"}'"
      ]
     },
     "metadata": {},
     "execution_count": 5
    }
   ],
   "source": [
    "data = {'first_name': 'Daniel', 'last_name': 'Rodríguez'}\n",
    "json.dumps(data)"
   ]
  },
  {
   "cell_type": "code",
   "execution_count": 6,
   "metadata": {},
   "outputs": [
    {
     "output_type": "execute_result",
     "data": {
      "text/plain": [
       "'{\"first_name\": \"Daniel\", \"last_name\": \"Rodríguez\"}'"
      ]
     },
     "metadata": {},
     "execution_count": 6
    }
   ],
   "source": [
    "json.dumps(data, ensure_ascii=False)\n"
   ]
  },
  {
   "cell_type": "code",
   "execution_count": 7,
   "metadata": {},
   "outputs": [
    {
     "output_type": "execute_result",
     "data": {
      "text/plain": [
       "'{\"age\": 27, \"amount\": 7.17, \"first_name\": \"Sigrid\", \"last_name\": \"Mannock\"}'"
      ]
     },
     "metadata": {},
     "execution_count": 7
    }
   ],
   "source": [
    "data = {\n",
    "    'first_name': 'Sigrid',\n",
    "    'last_name': 'Mannock',\n",
    "    'age': 27,\n",
    "    'amount': 7.17}\n",
    "\n",
    "json.dumps(data, sort_keys=True)\n"
   ]
  }
 ]
}