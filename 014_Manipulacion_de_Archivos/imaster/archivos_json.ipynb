{
 "metadata": {
  "language_info": {
   "codemirror_mode": {
    "name": "ipython",
    "version": 3
   },
   "file_extension": ".py",
   "mimetype": "text/x-python",
   "name": "python",
   "nbconvert_exporter": "python",
   "pygments_lexer": "ipython3",
   "version": "3.8.5"
  },
  "orig_nbformat": 2,
  "kernelspec": {
   "name": "python385jvsc74a57bd0dca0ade3e726a953b501b15e8e990130d2b7799f14cfd9f4271676035ebe5511",
   "display_name": "Python 3.8.5 64-bit ('base': conda)"
  },
  "metadata": {
   "interpreter": {
    "hash": "dca0ade3e726a953b501b15e8e990130d2b7799f14cfd9f4271676035ebe5511"
   }
  }
 },
 "nbformat": 4,
 "nbformat_minor": 2,
 "cells": [
  {
   "cell_type": "code",
   "execution_count": 51,
   "metadata": {},
   "outputs": [],
   "source": [
    "import json\n",
    "import pandas as pd\n",
    "\n",
    "\n",
    "\n",
    "\n",
    "data = {}\n",
    "data['Arboleda'] = []\n",
    "\n",
    "data['Arboleda'].append({'Nike': 300, 'Puma': 321, 'Adidas': 250})\n",
    "\n",
    "data['Unicentro'] = []\n",
    "data['Unicentro'].append({'Nike': 463, 'Puma': 321, 'Adidas': 250})\n",
    "\n",
    "data['Bolivar'] = []\n",
    "data['Bolivar'].append({'Nike': 210, 'Puma': 321, 'Adidas': 250})\n",
    "\n",
    "data['Pereira'] = []\n",
    "data['Pereira'].append({'Nike': 432, 'Puma': 321, 'Adidas': 250})\n",
    "\n",
    "\n",
    "\n",
    "\n",
    "with open('data.json', 'w') as file:\n",
    "    json.dump(data, file, indent=4)"
   ]
  },
  {
   "cell_type": "code",
   "execution_count": 53,
   "metadata": {},
   "outputs": [
    {
     "output_type": "execute_result",
     "data": {
      "text/plain": [
       "{'Arboleda': [{'Nike': 300, 'Puma': 321, 'Adidas': 250}],\n",
       " 'Unicentro': [{'Nike': 463, 'Puma': 321, 'Adidas': 250}],\n",
       " 'Bolivar': [{'Nike': 210, 'Puma': 321, 'Adidas': 250}],\n",
       " 'Pereira': [{'Nike': 432, 'Puma': 321, 'Adidas': 250}]}"
      ]
     },
     "metadata": {},
     "execution_count": 53
    }
   ],
   "source": [
    "data"
   ]
  },
  {
   "cell_type": "code",
   "execution_count": 59,
   "metadata": {},
   "outputs": [
    {
     "output_type": "stream",
     "name": "stdout",
     "text": [
      "Arboleda: [{'Nike': 300, 'Puma': 321, 'Adidas': 250}]\nUnicentro: [{'Nike': 463, 'Puma': 321, 'Adidas': 250}]\nBolivar: [{'Nike': 210, 'Puma': 321, 'Adidas': 250}]\nPeira: [{'Nike': 432, 'Puma': 321, 'Adidas': 250}]\n\n"
     ]
    }
   ],
   "source": [
    "with open('data.json') as file:\n",
    "    data = json.load(file)\n",
    "\n",
    "    \n",
    "print('Arboleda:', data['Arboleda'])\n",
    "print('Unicentro:', data['Unicentro'])\n",
    "print('Bolivar:', data['Bolivar'])\n",
    "print('Peira:', data['Pereira'])\n",
    "print('')"
   ]
  },
  {
   "cell_type": "code",
   "execution_count": 60,
   "metadata": {},
   "outputs": [
    {
     "output_type": "execute_result",
     "data": {
      "text/plain": [
       "{'status': 'success',\n",
       " 'country': 'United States',\n",
       " 'countryCode': 'US',\n",
       " 'region': 'IL',\n",
       " 'regionName': 'Illinois',\n",
       " 'city': 'Chicago',\n",
       " 'zip': '60666',\n",
       " 'lat': 41.8781,\n",
       " 'lon': -87.6298,\n",
       " 'timezone': 'America/Chicago',\n",
       " 'isp': 'Wikimedia Foundation Inc.',\n",
       " 'org': 'Wikimedia Foundation Inc',\n",
       " 'as': 'AS14907 Wikimedia Foundation Inc.',\n",
       " 'query': '208.80.152.201'}"
      ]
     },
     "metadata": {},
     "execution_count": 60
    }
   ],
   "source": [
    "import requests\n",
    "\n",
    "resp = requests.get('http://ip-api.com/json/208.80.152.201')\n",
    "json.loads(resp.content)"
   ]
  },
  {
   "cell_type": "code",
   "execution_count": 41,
   "metadata": {},
   "outputs": [
    {
     "output_type": "execute_result",
     "data": {
      "text/plain": [
       "'{\"first_name\": \"Daniel\", \"last_name\": \"Rodr\\\\u00edguez\"}'"
      ]
     },
     "metadata": {},
     "execution_count": 41
    }
   ],
   "source": [
    "data = {'first_name': 'Daniel', 'last_name': 'Rodríguez'}\n",
    "json.dumps(data)"
   ]
  },
  {
   "cell_type": "code",
   "execution_count": 42,
   "metadata": {},
   "outputs": [
    {
     "output_type": "execute_result",
     "data": {
      "text/plain": [
       "'{\"first_name\": \"Daniel\", \"last_name\": \"Rodríguez\"}'"
      ]
     },
     "metadata": {},
     "execution_count": 42
    }
   ],
   "source": [
    "json.dumps(data, ensure_ascii=False)\n"
   ]
  },
  {
   "cell_type": "code",
   "execution_count": 43,
   "metadata": {},
   "outputs": [
    {
     "output_type": "execute_result",
     "data": {
      "text/plain": [
       "'{\"age\": 27, \"amount\": 7.17, \"first_name\": \"Sigrid\", \"last_name\": \"Mannock\"}'"
      ]
     },
     "metadata": {},
     "execution_count": 43
    }
   ],
   "source": []
  },
  {
   "cell_type": "code",
   "execution_count": null,
   "metadata": {},
   "outputs": [],
   "source": [
    "data = {\n",
    "    'first_name': 'Sigrid',\n",
    "    'last_name': 'Mannock',\n",
    "    'age': 27,\n",
    "    'amount': 7.17}\n",
    "\n",
    "json.dumps(data, sort_keys=True)\n"
   ]
  }
 ]
}