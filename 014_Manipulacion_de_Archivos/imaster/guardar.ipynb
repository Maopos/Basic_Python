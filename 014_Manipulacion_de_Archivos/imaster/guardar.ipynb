{
 "metadata": {
  "language_info": {
   "codemirror_mode": {
    "name": "ipython",
    "version": 3
   },
   "file_extension": ".py",
   "mimetype": "text/x-python",
   "name": "python",
   "nbconvert_exporter": "python",
   "pygments_lexer": "ipython3",
   "version": "3.8.5"
  },
  "orig_nbformat": 2,
  "kernelspec": {
   "name": "python385jvsc74a57bd0dca0ade3e726a953b501b15e8e990130d2b7799f14cfd9f4271676035ebe5511",
   "display_name": "Python 3.8.5 64-bit ('base': conda)"
  },
  "metadata": {
   "interpreter": {
    "hash": "dca0ade3e726a953b501b15e8e990130d2b7799f14cfd9f4271676035ebe5511"
   }
  }
 },
 "nbformat": 4,
 "nbformat_minor": 2,
 "cells": [
  {
   "cell_type": "code",
   "execution_count": 48,
   "metadata": {},
   "outputs": [],
   "source": [
    "import pandas as pd"
   ]
  },
  {
   "cell_type": "code",
   "execution_count": 49,
   "metadata": {},
   "outputs": [
    {
     "output_type": "stream",
     "name": "stdout",
     "text": [
      "             Arboleda  Unicentro  Bolivar  Total\nAdidas             21          8       23     52\nArcterix            6         20       13     39\nFila                4         17        9     30\nNike                7         12       10     29\nPuma               34         15       24     73\nRebook              2         10        4     16\nSalomon            12         12        8     32\nUnderArmour         3          5        6     14\n"
     ]
    }
   ],
   "source": [
    "unicentro = pd.Series([12, 8, 10, 15, 5, 12, 17, 20], index = ['Nike', 'Adidas', 'Rebook', 'Puma', 'UnderArmour', 'Salomon', 'Fila', 'Arcterix'])\n",
    "\n",
    "arboleda = pd.Series([34, 21, 7, 2, 3, 12, 4, 6], index = ['Puma', 'Adidas', 'Nike', 'Rebook', 'UnderArmour', 'Salomon', 'Fila', 'Arcterix'])\n",
    "\n",
    "bolivar = pd.Series([10, 23, 13, 24, 9, 4, 8, 6], index = ['Nike', 'Adidas', 'Arcterix', 'Puma', 'Fila', 'Rebook', 'Salomon', 'UnderArmour'])\n",
    "\n",
    "ventas = pd.DataFrame({'Arboleda': arboleda, 'Unicentro': unicentro, 'Bolivar': bolivar})\n",
    "\n",
    "ventas['Total'] = arboleda + unicentro + bolivar\n",
    "\n",
    "print(ventas)\n",
    "\n",
    "ventas.to_csv('ventas.csv', sep=';')"
   ]
  },
  {
   "cell_type": "code",
   "execution_count": 50,
   "metadata": {},
   "outputs": [
    {
     "output_type": "execute_result",
     "data": {
      "text/plain": [
       "    Unnamed: 0  Arboleda  Unicentro  Bolivar  Total\n",
       "0       Adidas        21          8       23     52\n",
       "1     Arcterix         6         20       13     39\n",
       "2         Fila         4         17        9     30\n",
       "3         Nike         7         12       10     29\n",
       "4         Puma        34         15       24     73\n",
       "5       Rebook         2         10        4     16\n",
       "6      Salomon        12         12        8     32\n",
       "7  UnderArmour         3          5        6     14"
      ],
      "text/html": "<div>\n<style scoped>\n    .dataframe tbody tr th:only-of-type {\n        vertical-align: middle;\n    }\n\n    .dataframe tbody tr th {\n        vertical-align: top;\n    }\n\n    .dataframe thead th {\n        text-align: right;\n    }\n</style>\n<table border=\"1\" class=\"dataframe\">\n  <thead>\n    <tr style=\"text-align: right;\">\n      <th></th>\n      <th>Unnamed: 0</th>\n      <th>Arboleda</th>\n      <th>Unicentro</th>\n      <th>Bolivar</th>\n      <th>Total</th>\n    </tr>\n  </thead>\n  <tbody>\n    <tr>\n      <th>0</th>\n      <td>Adidas</td>\n      <td>21</td>\n      <td>8</td>\n      <td>23</td>\n      <td>52</td>\n    </tr>\n    <tr>\n      <th>1</th>\n      <td>Arcterix</td>\n      <td>6</td>\n      <td>20</td>\n      <td>13</td>\n      <td>39</td>\n    </tr>\n    <tr>\n      <th>2</th>\n      <td>Fila</td>\n      <td>4</td>\n      <td>17</td>\n      <td>9</td>\n      <td>30</td>\n    </tr>\n    <tr>\n      <th>3</th>\n      <td>Nike</td>\n      <td>7</td>\n      <td>12</td>\n      <td>10</td>\n      <td>29</td>\n    </tr>\n    <tr>\n      <th>4</th>\n      <td>Puma</td>\n      <td>34</td>\n      <td>15</td>\n      <td>24</td>\n      <td>73</td>\n    </tr>\n    <tr>\n      <th>5</th>\n      <td>Rebook</td>\n      <td>2</td>\n      <td>10</td>\n      <td>4</td>\n      <td>16</td>\n    </tr>\n    <tr>\n      <th>6</th>\n      <td>Salomon</td>\n      <td>12</td>\n      <td>12</td>\n      <td>8</td>\n      <td>32</td>\n    </tr>\n    <tr>\n      <th>7</th>\n      <td>UnderArmour</td>\n      <td>3</td>\n      <td>5</td>\n      <td>6</td>\n      <td>14</td>\n    </tr>\n  </tbody>\n</table>\n</div>"
     },
     "metadata": {},
     "execution_count": 50
    }
   ],
   "source": [
    "tenis = pd.read_csv('ventas.csv', sep=';', skiprows=0)\n",
    "tenis"
   ]
  },
  {
   "cell_type": "code",
   "execution_count": 54,
   "metadata": {},
   "outputs": [],
   "source": [
    "data = {'first_name': ['Sigrid', 'Joe', 'Theodoric','Kennedy', 'Beatrix', 'Olimpia', 'Grange', 'Sallee'],\n",
    "        'last_name': ['Mannock', 'Hinners', 'Rivers', 'Donnell', 'Parlett', 'Guenther', 'Douce', 'Johnstone'],\n",
    "        'age': [27, 31, 36, 53, 48, 36, 40, 34],\n",
    "        'amount_1': [7.17, 1.90, 1.11, 1.41, 6.69, 4.62, 1.01, 4.88],\n",
    "        'amount_2': [8.06,  \"?\", 5.90,  \"?\",  \"?\", 7.48, 4.37,  \"?\"]}\n",
    "\n",
    "df = pd.DataFrame(data, columns = ['first_name', 'last_name', 'age', 'amount_1', 'amount_2'])\n",
    "\n",
    "\n",
    "df.to_excel('nombres.xlsx', sheet_name='example')\n"
   ]
  },
  {
   "cell_type": "code",
   "execution_count": 60,
   "metadata": {},
   "outputs": [
    {
     "output_type": "execute_result",
     "data": {
      "text/plain": [
       "   0          1          2   3     4     5\n",
       "0  1        Joe    Hinners  31  1.90     ?\n",
       "1  2  Theodoric     Rivers  36  1.11   5.9\n",
       "2  3    Kennedy    Donnell  53  1.41     ?\n",
       "3  4    Beatrix    Parlett  48  6.69     ?\n",
       "4  5    Olimpia   Guenther  36  4.62  7.48\n",
       "5  6     Grange      Douce  40  1.01  4.37\n",
       "6  7     Sallee  Johnstone  34  4.88     ?"
      ],
      "text/html": "<div>\n<style scoped>\n    .dataframe tbody tr th:only-of-type {\n        vertical-align: middle;\n    }\n\n    .dataframe tbody tr th {\n        vertical-align: top;\n    }\n\n    .dataframe thead th {\n        text-align: right;\n    }\n</style>\n<table border=\"1\" class=\"dataframe\">\n  <thead>\n    <tr style=\"text-align: right;\">\n      <th></th>\n      <th>0</th>\n      <th>1</th>\n      <th>2</th>\n      <th>3</th>\n      <th>4</th>\n      <th>5</th>\n    </tr>\n  </thead>\n  <tbody>\n    <tr>\n      <th>0</th>\n      <td>1</td>\n      <td>Joe</td>\n      <td>Hinners</td>\n      <td>31</td>\n      <td>1.90</td>\n      <td>?</td>\n    </tr>\n    <tr>\n      <th>1</th>\n      <td>2</td>\n      <td>Theodoric</td>\n      <td>Rivers</td>\n      <td>36</td>\n      <td>1.11</td>\n      <td>5.9</td>\n    </tr>\n    <tr>\n      <th>2</th>\n      <td>3</td>\n      <td>Kennedy</td>\n      <td>Donnell</td>\n      <td>53</td>\n      <td>1.41</td>\n      <td>?</td>\n    </tr>\n    <tr>\n      <th>3</th>\n      <td>4</td>\n      <td>Beatrix</td>\n      <td>Parlett</td>\n      <td>48</td>\n      <td>6.69</td>\n      <td>?</td>\n    </tr>\n    <tr>\n      <th>4</th>\n      <td>5</td>\n      <td>Olimpia</td>\n      <td>Guenther</td>\n      <td>36</td>\n      <td>4.62</td>\n      <td>7.48</td>\n    </tr>\n    <tr>\n      <th>5</th>\n      <td>6</td>\n      <td>Grange</td>\n      <td>Douce</td>\n      <td>40</td>\n      <td>1.01</td>\n      <td>4.37</td>\n    </tr>\n    <tr>\n      <th>6</th>\n      <td>7</td>\n      <td>Sallee</td>\n      <td>Johnstone</td>\n      <td>34</td>\n      <td>4.88</td>\n      <td>?</td>\n    </tr>\n  </tbody>\n</table>\n</div>"
     },
     "metadata": {},
     "execution_count": 60
    }
   ],
   "source": [
    "nombres = pd.read_excel('nombres.xlsx', header = None, skiprows=1)\n",
    "nombres"
   ]
  },
  {
   "cell_type": "code",
   "execution_count": 61,
   "metadata": {},
   "outputs": [],
   "source": [
    "data = [\"Línea 1\", \"Línea 2\", \"Línea 3\", \"Línea 4\", \"Línea 5\"]"
   ]
  },
  {
   "cell_type": "code",
   "execution_count": 63,
   "metadata": {},
   "outputs": [],
   "source": [
    "fic = open(\"text_1.txt\", \"w\")\n",
    "\n",
    "for line in data:\n",
    "    fic.write(line)\n",
    "    fic.write(\"\\n\")\n",
    "    \n",
    "fic.close()\n"
   ]
  },
  {
   "cell_type": "code",
   "execution_count": 64,
   "metadata": {},
   "outputs": [],
   "source": [
    "fic = open(\"text_2.txt\", \"w\")\n",
    "\n",
    "for line in data:\n",
    "    print(line, file=fic)\n",
    "    \n",
    "fic.close()"
   ]
  },
  {
   "cell_type": "code",
   "execution_count": 65,
   "metadata": {},
   "outputs": [],
   "source": [
    "fic = open(\"text_3.txt\", \"w\")\n",
    "fic.writelines(\"%s\\n\" % s for s in data)\n",
    "fic.close()"
   ]
  },
  {
   "cell_type": "code",
   "execution_count": 70,
   "metadata": {},
   "outputs": [],
   "source": [
    "arboleda = pd.Series([34, 21, 7, 2, 3, 12, 4, 6], index = ['Puma', 'Adidas', 'Nike', 'Rebook', 'UnderArmour', 'Salomon', 'Fila', 'Arcterix'], name = 'Sucursal')\n",
    "\n",
    "cc_arboleda = open('arboleda.txt', 'w')\n",
    "\n",
    "for i in arboleda:\n",
    "    print(i, file = cc_arboleda)\n",
    "\n",
    "cc_arboleda.close()"
   ]
  },
  {
   "cell_type": "code",
   "execution_count": null,
   "metadata": {},
   "outputs": [],
   "source": []
  }
 ]
}