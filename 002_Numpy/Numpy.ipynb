{
  "cells": [
    {
      "cell_type": "code",
      "source": [
        "import numpy as np"
      ],
      "attachments": {},
      "execution_count": 15,
      "outputs": [],
      "metadata": {}
    },
    {
      "cell_type": "code",
      "source": [
        "a = np.array([34, 25, 7])\n",
        "\n",
        "print(a.shape)"
      ],
      "attachments": {},
      "execution_count": 16,
      "outputs": [
        {
          "output_type": "stream",
          "name": "stdout",
          "text": [
            "(3,)\n"
          ]
        }
      ],
      "metadata": {}
    },
    {
      "cell_type": "code",
      "source": [
        "mat = np.random.random((3,3))\n",
        "arreglo = np.array([[10, 20, 30], [40, 50, 60], [70, 80 , 90]])\n",
        "print(mat, '\\n')\n",
        "print(arreglo)"
      ],
      "attachments": {},
      "execution_count": 17,
      "outputs": [
        {
          "output_type": "stream",
          "name": "stdout",
          "text": [
            "[[0.43603083 0.51626976 0.90722773]\n [0.02680108 0.92966833 0.48729693]\n [0.28635764 0.97457809 0.3658347 ]] \n\n[[10 20 30]\n [40 50 60]\n [70 80 90]]\n"
          ]
        }
      ],
      "metadata": {}
    },
    {
      "cell_type": "code",
      "source": [
        "arreglo = np.array([[10, 20, 30], [40, 50, 60], [70, 80 , 90]])\n",
        "diagonal = arreglo[[0, 1, 2], [0, 1, 2]]\n",
        "print(diagonal)"
      ],
      "attachments": {},
      "execution_count": 18,
      "outputs": [
        {
          "output_type": "stream",
          "name": "stdout",
          "text": [
            "[10 50 90]\n"
          ]
        }
      ],
      "metadata": {}
    },
    {
      "cell_type": "code",
      "source": [
        "arreglo = np.array([[10, 20, 30], [40, 50, 60], [70, 80 , 90]])\n",
        "diagonal = arreglo[[0, 1, 2], [0, 1, 2]]\n",
        "print(diagonal)"
      ],
      "attachments": {},
      "execution_count": 19,
      "outputs": [
        {
          "output_type": "stream",
          "name": "stdout",
          "text": [
            "[10 50 90]\n"
          ]
        }
      ],
      "metadata": {}
    },
    {
      "cell_type": "code",
      "source": [
        "b = np.array([0, 1, 2])\n",
        "arreglo = np.array([[10, 20, 30], [40, 50, 60], [70, 80 , 90]])\n",
        "arreglo[np.arange(3), b] += 33\n",
        "print(arreglo)\n",
        "print(b.dtype)"
      ],
      "attachments": {},
      "execution_count": 20,
      "outputs": [
        {
          "output_type": "stream",
          "name": "stdout",
          "text": [
            "[[ 43  20  30]\n [ 40  83  60]\n [ 70  80 123]]\nint64\n"
          ]
        }
      ],
      "metadata": {}
    },
    {
      "cell_type": "code",
      "source": [
        "a = np.array([[10, 20, 30], [40, 50, 60], [70, 80 , 90]])\n",
        "b = np.array([[1, 2, 3], [4, 5, 6], [7, 8 , 9]])\n",
        "c = np.array([[11, 22, 33], [44, 55, 66], [77, 88 , 99]])\n",
        "\n",
        "d = np.multiply(a, b)\n",
        "e = np.multiply(d, c)\n",
        "\n",
        "print(e)"
      ],
      "attachments": {},
      "execution_count": 21,
      "outputs": [
        {
          "output_type": "stream",
          "name": "stdout",
          "text": [
            "[[  110   880  2970]\n [ 7040 13750 23760]\n [37730 56320 80190]]\n"
          ]
        }
      ],
      "metadata": {}
    },
    {
      "cell_type": "code",
      "source": [
        "a = np.array([[10, 20, 30], [40, 50, 60], [70, 80 , 90]])\n",
        "b = np.array([[1, 2, 3], [4, 5, 6], [7, 8 , 9]])\n",
        "c = np.array([[11, 22, 33], [44, 55, 66], [77, 88 , 99]])\n",
        "\n",
        "d = np.multiply(a, (np.multiply(b, c)))\n",
        "\n",
        "\n",
        "\n",
        "print(d)"
      ],
      "attachments": {},
      "execution_count": 22,
      "outputs": [
        {
          "output_type": "stream",
          "name": "stdout",
          "text": [
            "[[  110   880  2970]\n [ 7040 13750 23760]\n [37730 56320 80190]]\n"
          ]
        }
      ],
      "metadata": {}
    },
    {
      "cell_type": "code",
      "source": [
        "a = np.random.random((3, 3))\n",
        "\n",
        "print(a)"
      ],
      "attachments": {},
      "execution_count": 23,
      "outputs": [
        {
          "output_type": "stream",
          "name": "stdout",
          "text": [
            "[[0.11718908 0.4491103  0.14737237]\n [0.47139648 0.01564152 0.07845667]\n [0.82453961 0.17239547 0.47812242]]\n"
          ]
        }
      ],
      "metadata": {}
    },
    {
      "cell_type": "code",
      "source": [
        "a = np.array([[10, 20, 30], [40, 50, 60], [70, 80 , 90]])\n",
        "b = np.array([[1, 2, 3], [4, 5, 6], [7, 8 , 9]])\n",
        "\n",
        "print(a.dot(b))"
      ],
      "attachments": {},
      "execution_count": 24,
      "outputs": [
        {
          "output_type": "stream",
          "name": "stdout",
          "text": [
            "[[ 300  360  420]\n [ 660  810  960]\n [1020 1260 1500]]\n"
          ]
        }
      ],
      "metadata": {}
    },
    {
      "cell_type": "code",
      "source": [
        "a = np.array([[10, 20, 30], [40, 50, 60], [70, 80 , 90]])\n",
        "b = np.array([[1, 2, 3], [4, 5, 6], [7, 8 , 9]])\n",
        "\n",
        "\n",
        "\n",
        "print(a.T)"
      ],
      "attachments": {},
      "execution_count": 25,
      "outputs": [
        {
          "output_type": "stream",
          "name": "stdout",
          "text": [
            "[[10 40 70]\n [20 50 80]\n [30 60 90]]\n"
          ]
        }
      ],
      "metadata": {}
    },
    {
      "cell_type": "code",
      "source": [
        "a = np.array([[10, 20, 30], [40, 50, 60], [70, 80 , 90]])\n",
        "b = np.random.random(3)*100\n",
        "c = np.empty_like(a)\n",
        "\n",
        "print(a.shape)\n",
        "print(b)\n",
        "\n",
        "for i in range(3):\n",
        "    c[i:] = a[i:] + b\n",
        "\n",
        "print(c)"
      ],
      "attachments": {},
      "execution_count": 26,
      "outputs": [
        {
          "output_type": "stream",
          "name": "stdout",
          "text": [
            "(3, 3)\n[55.63978991 50.57874073 39.71542748]\n[[ 65  70  69]\n [ 95 100  99]\n [125 130 129]]\n"
          ]
        }
      ],
      "metadata": {}
    },
    {
      "cell_type": "code",
      "source": [
        "a = np.array([[10, 20, 30], [40, 50, 60], [70, 80 , 90]])\n",
        "b = np.random.random(3)*100\n",
        "\n",
        "bb = np.tile(b, (3,1))\n",
        "print(b, '\\n')\n",
        "\n",
        "c = a + bb\n",
        "\n",
        "print(c)"
      ],
      "attachments": {},
      "execution_count": 27,
      "outputs": [
        {
          "output_type": "stream",
          "name": "stdout",
          "text": [
            "[84.59071833 59.63699243 94.07747436] \n\n[[ 94.59071833  79.63699243 124.07747436]\n [124.59071833 109.63699243 154.07747436]\n [154.59071833 139.63699243 184.07747436]]\n"
          ]
        }
      ],
      "metadata": {}
    },
    {
      "cell_type": "code",
      "source": [
        "a = np.array([40, 50, 60, 70, 80])\n",
        "b = np.random.random(4)*100\n",
        "\n",
        "c = a + np.reshape(a, (5,1))\n",
        "\n",
        "print((c.T + a).T)\n",
        "print()\n",
        "print(c)"
      ],
      "attachments": {},
      "execution_count": 28,
      "outputs": [
        {
          "output_type": "stream",
          "name": "stdout",
          "text": [
            "[[120 130 140 150 160]\n [140 150 160 170 180]\n [160 170 180 190 200]\n [180 190 200 210 220]\n [200 210 220 230 240]]\n\n[[ 80  90 100 110 120]\n [ 90 100 110 120 130]\n [100 110 120 130 140]\n [110 120 130 140 150]\n [120 130 140 150 160]]\n"
          ]
        }
      ],
      "metadata": {}
    }
  ],
  "metadata": {
    "kernelspec": {
      "name": "python385jvsc74a57bd0dca0ade3e726a953b501b15e8e990130d2b7799f14cfd9f4271676035ebe5511",
      "display_name": "Python 3.8.5 64-bit ('base': conda)"
    },
    "metadata": {
      "interpreter": {
        "hash": "dca0ade3e726a953b501b15e8e990130d2b7799f14cfd9f4271676035ebe5511"
      }
    }
  },
  "nbformat": 4,
  "nbformat_minor": 0
}