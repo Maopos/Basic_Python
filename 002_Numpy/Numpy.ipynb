{
  "cells": [
    {
      "cell_type": "code",
      "source": [
        "import numpy as np"
      ],
      "attachments": {},
      "execution_count": 2,
      "outputs": [],
      "metadata": {}
    },
    {
      "cell_type": "code",
      "source": [
        "a = np.array([34, 25, 7])\n",
        "\n",
        "print(a.shape)"
      ],
      "attachments": {},
      "execution_count": 3,
      "outputs": [
        {
          "output_type": "stream",
          "name": "stdout",
          "text": [
            "(3,)\n"
          ]
        }
      ],
      "metadata": {}
    },
    {
      "cell_type": "code",
      "source": [
        "mat = np.random.random((3,3))\n",
        "arreglo = np.array([[10, 20, 30], [40, 50, 60], [70, 80 , 90]])\n",
        "print(mat, '\\n')\n",
        "print(arreglo)"
      ],
      "attachments": {},
      "execution_count": 4,
      "outputs": [
        {
          "output_type": "stream",
          "name": "stdout",
          "text": [
            "[[0.99208655 0.49750808 0.47568106]\n [0.8891108  0.67828187 0.58857682]\n [0.03274914 0.74159677 0.53976139]] \n\n[[10 20 30]\n [40 50 60]\n [70 80 90]]\n"
          ]
        }
      ],
      "metadata": {}
    },
    {
      "cell_type": "code",
      "source": [
        "arreglo = np.array([[10, 20, 30], [40, 50, 60], [70, 80 , 90]])\n",
        "diagonal = arreglo[[0, 1, 2], [0, 1, 2]]\n",
        "print(diagonal)"
      ],
      "attachments": {},
      "execution_count": 5,
      "outputs": [
        {
          "output_type": "stream",
          "name": "stdout",
          "text": [
            "[10 50 90]\n"
          ]
        }
      ],
      "metadata": {}
    },
    {
      "cell_type": "code",
      "source": [
        "arreglo = np.array([[10, 20, 30], [40, 50, 60], [70, 80 , 90]])\n",
        "diagonal = arreglo[[0, 1, 2], [0, 1, 2]]\n",
        "print(diagonal)"
      ],
      "attachments": {},
      "execution_count": 6,
      "outputs": [
        {
          "output_type": "stream",
          "name": "stdout",
          "text": [
            "[10 50 90]\n"
          ]
        }
      ],
      "metadata": {}
    },
    {
      "cell_type": "code",
      "source": [
        "b = np.array([0, 1, 2])\n",
        "arreglo = np.array([[10, 20, 30], [40, 50, 60], [70, 80 , 90]])\n",
        "arreglo[np.arange(3), b] += 33\n",
        "print(arreglo)\n",
        "print(b.dtype)"
      ],
      "attachments": {},
      "execution_count": 7,
      "outputs": [
        {
          "output_type": "stream",
          "name": "stdout",
          "text": [
            "[[ 43  20  30]\n [ 40  83  60]\n [ 70  80 123]]\nint64\n"
          ]
        }
      ],
      "metadata": {}
    },
    {
      "cell_type": "code",
      "source": [
        "a = np.array([[10, 20, 30], [40, 50, 60], [70, 80 , 90]])\n",
        "b = np.array([[1, 2, 3], [4, 5, 6], [7, 8 , 9]])\n",
        "c = np.array([[11, 22, 33], [44, 55, 66], [77, 88 , 99]])\n",
        "\n",
        "d = np.multiply(a, b)\n",
        "e = np.multiply(d, c)\n",
        "\n",
        "print(e)"
      ],
      "attachments": {},
      "execution_count": 8,
      "outputs": [
        {
          "output_type": "stream",
          "name": "stdout",
          "text": [
            "[[  110   880  2970]\n [ 7040 13750 23760]\n [37730 56320 80190]]\n"
          ]
        }
      ],
      "metadata": {}
    },
    {
      "cell_type": "code",
      "source": [
        "a = np.array([[10, 20, 30], [40, 50, 60], [70, 80 , 90]])\n",
        "b = np.array([[1, 2, 3], [4, 5, 6], [7, 8 , 9]])\n",
        "c = np.array([[11, 22, 33], [44, 55, 66], [77, 88 , 99]])\n",
        "\n",
        "d = np.multiply(a, (np.multiply(b, c)))\n",
        "\n",
        "\n",
        "\n",
        "print(d)"
      ],
      "attachments": {},
      "execution_count": 9,
      "outputs": [
        {
          "output_type": "stream",
          "name": "stdout",
          "text": [
            "[[  110   880  2970]\n [ 7040 13750 23760]\n [37730 56320 80190]]\n"
          ]
        }
      ],
      "metadata": {}
    },
    {
      "cell_type": "code",
      "source": [
        "a = np.random.random((3, 3))\n",
        "\n",
        "print(a)"
      ],
      "attachments": {},
      "execution_count": 10,
      "outputs": [
        {
          "output_type": "stream",
          "name": "stdout",
          "text": [
            "[[0.00196551 0.9352987  0.82943895]\n [0.61360177 0.29701459 0.74629173]\n [0.14472466 0.46785936 0.95762029]]\n"
          ]
        }
      ],
      "metadata": {}
    },
    {
      "cell_type": "code",
      "source": [
        "a = np.array([[10, 20, 30], [40, 50, 60], [70, 80 , 90]])\n",
        "b = np.array([[1, 2, 3], [4, 5, 6], [7, 8 , 9]])\n",
        "\n",
        "print(a.dot(b))"
      ],
      "attachments": {},
      "execution_count": 11,
      "outputs": [
        {
          "output_type": "stream",
          "name": "stdout",
          "text": [
            "[[ 300  360  420]\n [ 660  810  960]\n [1020 1260 1500]]\n"
          ]
        }
      ],
      "metadata": {}
    },
    {
      "cell_type": "code",
      "source": [
        "a = np.array([[10, 20, 30], [40, 50, 60], [70, 80 , 90]])\n",
        "b = np.array([[1, 2, 3], [4, 5, 6], [7, 8 , 9]])\n",
        "\n",
        "\n",
        "\n",
        "print(a.T)"
      ],
      "attachments": {},
      "execution_count": 12,
      "outputs": [
        {
          "output_type": "stream",
          "name": "stdout",
          "text": [
            "[[10 40 70]\n [20 50 80]\n [30 60 90]]\n"
          ]
        }
      ],
      "metadata": {}
    },
    {
      "cell_type": "code",
      "source": [
        "a = np.array([[10, 20, 30], [40, 50, 60], [70, 80 , 90]])\n",
        "b = np.random.random(3)*100\n",
        "c = np.empty_like(a)\n",
        "\n",
        "print(a.shape)\n",
        "print(b)\n",
        "\n",
        "for i in range(3):\n",
        "    c[i:] = a[i:] + b\n",
        "\n",
        "print(c)"
      ],
      "attachments": {},
      "execution_count": 13,
      "outputs": [
        {
          "output_type": "stream",
          "name": "stdout",
          "text": [
            "(3, 3)\n[56.94973227 63.0592992  85.70285945]\n[[ 66  83 115]\n [ 96 113 145]\n [126 143 175]]\n"
          ]
        }
      ],
      "metadata": {}
    },
    {
      "cell_type": "code",
      "source": [
        "a = np.array([[10, 20, 30], [40, 50, 60], [70, 80 , 90]])\n",
        "b = np.random.random(3)*100\n",
        "\n",
        "bb = np.tile(b, (3,1))\n",
        "print(b, '\\n')\n",
        "\n",
        "c = a + bb\n",
        "\n",
        "print(c)"
      ],
      "attachments": {},
      "execution_count": 14,
      "outputs": [
        {
          "output_type": "stream",
          "name": "stdout",
          "text": [
            "[ 8.76726907  3.47823195 26.89983099] \n\n[[ 18.76726907  23.47823195  56.89983099]\n [ 48.76726907  53.47823195  86.89983099]\n [ 78.76726907  83.47823195 116.89983099]]\n"
          ]
        }
      ],
      "metadata": {}
    },
    {
      "cell_type": "code",
      "source": [
        "a = np.array([40, 50, 60, 70, 80])\n",
        "b = np.random.random(4)*100\n",
        "\n",
        "c = a + np.reshape(a, (5,1))\n",
        "\n",
        "print((c.T + a).T)\n",
        "print()\n",
        "print(c)"
      ],
      "attachments": {},
      "execution_count": 15,
      "outputs": [
        {
          "output_type": "stream",
          "name": "stdout",
          "text": [
            "[[120 130 140 150 160]\n [140 150 160 170 180]\n [160 170 180 190 200]\n [180 190 200 210 220]\n [200 210 220 230 240]]\n\n[[ 80  90 100 110 120]\n [ 90 100 110 120 130]\n [100 110 120 130 140]\n [110 120 130 140 150]\n [120 130 140 150 160]]\n"
          ]
        }
      ],
      "metadata": {}
    }
  ],
  "metadata": {
    "kernelspec": {
      "name": "python3",
      "display_name": "Python 3.8.5 64-bit ('base': conda)"
    },
    "metadata": {
      "interpreter": {
        "hash": "dca0ade3e726a953b501b15e8e990130d2b7799f14cfd9f4271676035ebe5511"
      }
    },
    "interpreter": {
      "hash": "dca0ade3e726a953b501b15e8e990130d2b7799f14cfd9f4271676035ebe5511"
    }
  },
  "nbformat": 4,
  "nbformat_minor": 0
}